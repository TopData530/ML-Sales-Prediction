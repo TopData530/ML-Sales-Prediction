{
  "nbformat": 4,
  "nbformat_minor": 0,
  "metadata": {
    "colab": {
      "provenance": [],
      "collapsed_sections": [],
      "mount_file_id": "1m8OkCYR7cVn_67HvtdP0HvaAXkEibFuR",
      "authorship_tag": "ABX9TyP5nwGWATmNZtjyYH02k6M0",
      "include_colab_link": true
    },
    "kernelspec": {
      "name": "python3",
      "display_name": "Python 3"
    },
    "language_info": {
      "name": "python"
    }
  },
  "cells": [
    {
      "cell_type": "markdown",
      "metadata": {
        "id": "view-in-github",
        "colab_type": "text"
      },
      "source": [
        "<a href=\"https://colab.research.google.com/github/TopData530/ML-Sales-Prediction/blob/main/Project_2_Part_3.ipynb\" target=\"_parent\"><img src=\"https://colab.research.google.com/assets/colab-badge.svg\" alt=\"Open In Colab\"/></a>"
      ]
    },
    {
      "cell_type": "markdown",
      "source": [
        "#Projects to use for machine learning predictions\n",
        "##Eric Saechao"
      ],
      "metadata": {
        "id": "5uQmt4S4q1nL"
      }
    },
    {
      "cell_type": "code",
      "execution_count": 312,
      "metadata": {
        "id": "5YUsv_x1qnhk"
      },
      "outputs": [],
      "source": [
        "import pandas as pd\n",
        "import seaborn as sns\n",
        "import numpy as np\n",
        "import matplotlib.pyplot as plt"
      ]
    },
    {
      "cell_type": "code",
      "source": [
        "df = pd.read_csv('/content/mushrooms (1).csv')\n",
        "df.head()"
      ],
      "metadata": {
        "colab": {
          "base_uri": "https://localhost:8080/",
          "height": 302
        },
        "id": "sfEZT_d8rCZg",
        "outputId": "5ce0e4be-aaf1-47b5-bbc9-8964cb3bb138"
      },
      "execution_count": 313,
      "outputs": [
        {
          "output_type": "execute_result",
          "data": {
            "text/plain": [
              "  class cap-shape cap-surface cap-color bruises odor gill-attachment  \\\n",
              "0     p         x           s         n       t    p               f   \n",
              "1     e         x           s         y       t    a               f   \n",
              "2     e         b           s         w       t    l               f   \n",
              "3     p         x           y         w       t    p               f   \n",
              "4     e         x           s         g       f    n               f   \n",
              "\n",
              "  gill-spacing gill-size gill-color stalk-shape stalk-root  \\\n",
              "0            c         n          k           e          e   \n",
              "1            c         b          k           e          c   \n",
              "2            c         b          n           e          c   \n",
              "3            c         n          n           e          e   \n",
              "4            w         b          k           t          e   \n",
              "\n",
              "  stalk-surface-above-ring stalk-surface-below-ring stalk-color-above-ring  \\\n",
              "0                        s                        s                      w   \n",
              "1                        s                        s                      w   \n",
              "2                        s                        s                      w   \n",
              "3                        s                        s                      w   \n",
              "4                        s                        s                      w   \n",
              "\n",
              "  stalk-color-below-ring veil-type veil-color ring-number ring-type  \\\n",
              "0                      w         p          w           o         p   \n",
              "1                      w         p          w           o         p   \n",
              "2                      w         p          w           o         p   \n",
              "3                      w         p          w           o         p   \n",
              "4                      w         p          w           o         e   \n",
              "\n",
              "  spore-print-color population habitat  \n",
              "0                 k          s       u  \n",
              "1                 n          n       g  \n",
              "2                 n          n       m  \n",
              "3                 k          s       u  \n",
              "4                 n          a       g  "
            ],
            "text/html": [
              "\n",
              "  <div id=\"df-8aed7943-b3ff-422e-a067-da74d8d95acd\">\n",
              "    <div class=\"colab-df-container\">\n",
              "      <div>\n",
              "<style scoped>\n",
              "    .dataframe tbody tr th:only-of-type {\n",
              "        vertical-align: middle;\n",
              "    }\n",
              "\n",
              "    .dataframe tbody tr th {\n",
              "        vertical-align: top;\n",
              "    }\n",
              "\n",
              "    .dataframe thead th {\n",
              "        text-align: right;\n",
              "    }\n",
              "</style>\n",
              "<table border=\"1\" class=\"dataframe\">\n",
              "  <thead>\n",
              "    <tr style=\"text-align: right;\">\n",
              "      <th></th>\n",
              "      <th>class</th>\n",
              "      <th>cap-shape</th>\n",
              "      <th>cap-surface</th>\n",
              "      <th>cap-color</th>\n",
              "      <th>bruises</th>\n",
              "      <th>odor</th>\n",
              "      <th>gill-attachment</th>\n",
              "      <th>gill-spacing</th>\n",
              "      <th>gill-size</th>\n",
              "      <th>gill-color</th>\n",
              "      <th>stalk-shape</th>\n",
              "      <th>stalk-root</th>\n",
              "      <th>stalk-surface-above-ring</th>\n",
              "      <th>stalk-surface-below-ring</th>\n",
              "      <th>stalk-color-above-ring</th>\n",
              "      <th>stalk-color-below-ring</th>\n",
              "      <th>veil-type</th>\n",
              "      <th>veil-color</th>\n",
              "      <th>ring-number</th>\n",
              "      <th>ring-type</th>\n",
              "      <th>spore-print-color</th>\n",
              "      <th>population</th>\n",
              "      <th>habitat</th>\n",
              "    </tr>\n",
              "  </thead>\n",
              "  <tbody>\n",
              "    <tr>\n",
              "      <th>0</th>\n",
              "      <td>p</td>\n",
              "      <td>x</td>\n",
              "      <td>s</td>\n",
              "      <td>n</td>\n",
              "      <td>t</td>\n",
              "      <td>p</td>\n",
              "      <td>f</td>\n",
              "      <td>c</td>\n",
              "      <td>n</td>\n",
              "      <td>k</td>\n",
              "      <td>e</td>\n",
              "      <td>e</td>\n",
              "      <td>s</td>\n",
              "      <td>s</td>\n",
              "      <td>w</td>\n",
              "      <td>w</td>\n",
              "      <td>p</td>\n",
              "      <td>w</td>\n",
              "      <td>o</td>\n",
              "      <td>p</td>\n",
              "      <td>k</td>\n",
              "      <td>s</td>\n",
              "      <td>u</td>\n",
              "    </tr>\n",
              "    <tr>\n",
              "      <th>1</th>\n",
              "      <td>e</td>\n",
              "      <td>x</td>\n",
              "      <td>s</td>\n",
              "      <td>y</td>\n",
              "      <td>t</td>\n",
              "      <td>a</td>\n",
              "      <td>f</td>\n",
              "      <td>c</td>\n",
              "      <td>b</td>\n",
              "      <td>k</td>\n",
              "      <td>e</td>\n",
              "      <td>c</td>\n",
              "      <td>s</td>\n",
              "      <td>s</td>\n",
              "      <td>w</td>\n",
              "      <td>w</td>\n",
              "      <td>p</td>\n",
              "      <td>w</td>\n",
              "      <td>o</td>\n",
              "      <td>p</td>\n",
              "      <td>n</td>\n",
              "      <td>n</td>\n",
              "      <td>g</td>\n",
              "    </tr>\n",
              "    <tr>\n",
              "      <th>2</th>\n",
              "      <td>e</td>\n",
              "      <td>b</td>\n",
              "      <td>s</td>\n",
              "      <td>w</td>\n",
              "      <td>t</td>\n",
              "      <td>l</td>\n",
              "      <td>f</td>\n",
              "      <td>c</td>\n",
              "      <td>b</td>\n",
              "      <td>n</td>\n",
              "      <td>e</td>\n",
              "      <td>c</td>\n",
              "      <td>s</td>\n",
              "      <td>s</td>\n",
              "      <td>w</td>\n",
              "      <td>w</td>\n",
              "      <td>p</td>\n",
              "      <td>w</td>\n",
              "      <td>o</td>\n",
              "      <td>p</td>\n",
              "      <td>n</td>\n",
              "      <td>n</td>\n",
              "      <td>m</td>\n",
              "    </tr>\n",
              "    <tr>\n",
              "      <th>3</th>\n",
              "      <td>p</td>\n",
              "      <td>x</td>\n",
              "      <td>y</td>\n",
              "      <td>w</td>\n",
              "      <td>t</td>\n",
              "      <td>p</td>\n",
              "      <td>f</td>\n",
              "      <td>c</td>\n",
              "      <td>n</td>\n",
              "      <td>n</td>\n",
              "      <td>e</td>\n",
              "      <td>e</td>\n",
              "      <td>s</td>\n",
              "      <td>s</td>\n",
              "      <td>w</td>\n",
              "      <td>w</td>\n",
              "      <td>p</td>\n",
              "      <td>w</td>\n",
              "      <td>o</td>\n",
              "      <td>p</td>\n",
              "      <td>k</td>\n",
              "      <td>s</td>\n",
              "      <td>u</td>\n",
              "    </tr>\n",
              "    <tr>\n",
              "      <th>4</th>\n",
              "      <td>e</td>\n",
              "      <td>x</td>\n",
              "      <td>s</td>\n",
              "      <td>g</td>\n",
              "      <td>f</td>\n",
              "      <td>n</td>\n",
              "      <td>f</td>\n",
              "      <td>w</td>\n",
              "      <td>b</td>\n",
              "      <td>k</td>\n",
              "      <td>t</td>\n",
              "      <td>e</td>\n",
              "      <td>s</td>\n",
              "      <td>s</td>\n",
              "      <td>w</td>\n",
              "      <td>w</td>\n",
              "      <td>p</td>\n",
              "      <td>w</td>\n",
              "      <td>o</td>\n",
              "      <td>e</td>\n",
              "      <td>n</td>\n",
              "      <td>a</td>\n",
              "      <td>g</td>\n",
              "    </tr>\n",
              "  </tbody>\n",
              "</table>\n",
              "</div>\n",
              "      <button class=\"colab-df-convert\" onclick=\"convertToInteractive('df-8aed7943-b3ff-422e-a067-da74d8d95acd')\"\n",
              "              title=\"Convert this dataframe to an interactive table.\"\n",
              "              style=\"display:none;\">\n",
              "        \n",
              "  <svg xmlns=\"http://www.w3.org/2000/svg\" height=\"24px\"viewBox=\"0 0 24 24\"\n",
              "       width=\"24px\">\n",
              "    <path d=\"M0 0h24v24H0V0z\" fill=\"none\"/>\n",
              "    <path d=\"M18.56 5.44l.94 2.06.94-2.06 2.06-.94-2.06-.94-.94-2.06-.94 2.06-2.06.94zm-11 1L8.5 8.5l.94-2.06 2.06-.94-2.06-.94L8.5 2.5l-.94 2.06-2.06.94zm10 10l.94 2.06.94-2.06 2.06-.94-2.06-.94-.94-2.06-.94 2.06-2.06.94z\"/><path d=\"M17.41 7.96l-1.37-1.37c-.4-.4-.92-.59-1.43-.59-.52 0-1.04.2-1.43.59L10.3 9.45l-7.72 7.72c-.78.78-.78 2.05 0 2.83L4 21.41c.39.39.9.59 1.41.59.51 0 1.02-.2 1.41-.59l7.78-7.78 2.81-2.81c.8-.78.8-2.07 0-2.86zM5.41 20L4 18.59l7.72-7.72 1.47 1.35L5.41 20z\"/>\n",
              "  </svg>\n",
              "      </button>\n",
              "      \n",
              "  <style>\n",
              "    .colab-df-container {\n",
              "      display:flex;\n",
              "      flex-wrap:wrap;\n",
              "      gap: 12px;\n",
              "    }\n",
              "\n",
              "    .colab-df-convert {\n",
              "      background-color: #E8F0FE;\n",
              "      border: none;\n",
              "      border-radius: 50%;\n",
              "      cursor: pointer;\n",
              "      display: none;\n",
              "      fill: #1967D2;\n",
              "      height: 32px;\n",
              "      padding: 0 0 0 0;\n",
              "      width: 32px;\n",
              "    }\n",
              "\n",
              "    .colab-df-convert:hover {\n",
              "      background-color: #E2EBFA;\n",
              "      box-shadow: 0px 1px 2px rgba(60, 64, 67, 0.3), 0px 1px 3px 1px rgba(60, 64, 67, 0.15);\n",
              "      fill: #174EA6;\n",
              "    }\n",
              "\n",
              "    [theme=dark] .colab-df-convert {\n",
              "      background-color: #3B4455;\n",
              "      fill: #D2E3FC;\n",
              "    }\n",
              "\n",
              "    [theme=dark] .colab-df-convert:hover {\n",
              "      background-color: #434B5C;\n",
              "      box-shadow: 0px 1px 3px 1px rgba(0, 0, 0, 0.15);\n",
              "      filter: drop-shadow(0px 1px 2px rgba(0, 0, 0, 0.3));\n",
              "      fill: #FFFFFF;\n",
              "    }\n",
              "  </style>\n",
              "\n",
              "      <script>\n",
              "        const buttonEl =\n",
              "          document.querySelector('#df-8aed7943-b3ff-422e-a067-da74d8d95acd button.colab-df-convert');\n",
              "        buttonEl.style.display =\n",
              "          google.colab.kernel.accessAllowed ? 'block' : 'none';\n",
              "\n",
              "        async function convertToInteractive(key) {\n",
              "          const element = document.querySelector('#df-8aed7943-b3ff-422e-a067-da74d8d95acd');\n",
              "          const dataTable =\n",
              "            await google.colab.kernel.invokeFunction('convertToInteractive',\n",
              "                                                     [key], {});\n",
              "          if (!dataTable) return;\n",
              "\n",
              "          const docLinkHtml = 'Like what you see? Visit the ' +\n",
              "            '<a target=\"_blank\" href=https://colab.research.google.com/notebooks/data_table.ipynb>data table notebook</a>'\n",
              "            + ' to learn more about interactive tables.';\n",
              "          element.innerHTML = '';\n",
              "          dataTable['output_type'] = 'display_data';\n",
              "          await google.colab.output.renderOutput(dataTable, element);\n",
              "          const docLink = document.createElement('div');\n",
              "          docLink.innerHTML = docLinkHtml;\n",
              "          element.appendChild(docLink);\n",
              "        }\n",
              "      </script>\n",
              "    </div>\n",
              "  </div>\n",
              "  "
            ]
          },
          "metadata": {},
          "execution_count": 313
        }
      ]
    },
    {
      "cell_type": "code",
      "source": [
        "df.info()"
      ],
      "metadata": {
        "colab": {
          "base_uri": "https://localhost:8080/"
        },
        "id": "fjYg6PHctRX8",
        "outputId": "4841ff2a-b648-43ef-f7cf-f3974fd55d13"
      },
      "execution_count": 314,
      "outputs": [
        {
          "output_type": "stream",
          "name": "stdout",
          "text": [
            "<class 'pandas.core.frame.DataFrame'>\n",
            "RangeIndex: 8124 entries, 0 to 8123\n",
            "Data columns (total 23 columns):\n",
            " #   Column                    Non-Null Count  Dtype \n",
            "---  ------                    --------------  ----- \n",
            " 0   class                     8124 non-null   object\n",
            " 1   cap-shape                 8124 non-null   object\n",
            " 2   cap-surface               8124 non-null   object\n",
            " 3   cap-color                 8124 non-null   object\n",
            " 4   bruises                   8124 non-null   object\n",
            " 5   odor                      8124 non-null   object\n",
            " 6   gill-attachment           8124 non-null   object\n",
            " 7   gill-spacing              8124 non-null   object\n",
            " 8   gill-size                 8124 non-null   object\n",
            " 9   gill-color                8124 non-null   object\n",
            " 10  stalk-shape               8124 non-null   object\n",
            " 11  stalk-root                8124 non-null   object\n",
            " 12  stalk-surface-above-ring  8124 non-null   object\n",
            " 13  stalk-surface-below-ring  8124 non-null   object\n",
            " 14  stalk-color-above-ring    8124 non-null   object\n",
            " 15  stalk-color-below-ring    8124 non-null   object\n",
            " 16  veil-type                 8124 non-null   object\n",
            " 17  veil-color                8124 non-null   object\n",
            " 18  ring-number               8124 non-null   object\n",
            " 19  ring-type                 8124 non-null   object\n",
            " 20  spore-print-color         8124 non-null   object\n",
            " 21  population                8124 non-null   object\n",
            " 22  habitat                   8124 non-null   object\n",
            "dtypes: object(23)\n",
            "memory usage: 1.4+ MB\n"
          ]
        }
      ]
    },
    {
      "cell_type": "code",
      "source": [
        "pd.set_option('display.max_column', None)"
      ],
      "metadata": {
        "id": "K36dcPkpy57z"
      },
      "execution_count": 315,
      "outputs": []
    },
    {
      "cell_type": "markdown",
      "source": [
        "##Attribute Information: (classes: edible=e, poisonous=p)\n",
        "\n",
        "* cap-shape: bell=b,conical=c,convex=x,flat=f, knobbed=k,sunken=s\n",
        "\n",
        "* cap-surface: fibrous=f,grooves=g,scaly=y,smooth=s\n",
        "\n",
        "* cap-color: brown=n,buff=b,cinnamon=c,gray=g,green=r,pink=p,purple=u,red=e,* white=w,yellow=y\n",
        "\n",
        "* bruises: bruises=t,no=f\n",
        "\n",
        "* odor: almond=a,anise=l,creosote=c,fishy=y,foul=f,musty=m,none=n,pungent=p,spicy=s\n",
        "\n",
        "* gill-attachment: attached=a,descending=d,free=f,notched=n\n",
        "\n",
        "* gill-spacing: close=c,crowded=w,distant=d\n",
        "\n",
        "* gill-size: broad=b,narrow=n\n",
        "\n",
        "* gill-color: black=k,brown=n,buff=b,chocolate=h,gray=g, green=r,orange=o,pink=p,purple=u,red=e,white=w,yellow=y\n",
        "\n",
        "* stalk-shape: enlarging=e,tapering=t\n",
        "\n",
        "* stalk-root: bulbous=b,club=c,cup=u,equal=e,rhizomorphs=z,rooted=r,missing=?\n",
        "\n",
        "* stalk-surface-above-ring: fibrous=f,scaly=y,silky=k,smooth=s\n",
        "\n",
        "* stalk-surface-below-ring: fibrous=f,scaly=y,silky=k,smooth=s\n",
        "\n",
        "* stalk-color-above-ring: brown=n,buff=b,cinnamon=c,gray=g,orange=o,pink=p,red=e,white=w,yellow=y\n",
        "\n",
        "* stalk-color-below-ring: brown=n,buff=b,cinnamon=c,gray=g,orange=o,pink=p,red=e,white=w,yellow=y\n",
        "\n",
        "* veil-type: partial=p,universal=u\n",
        "\n",
        "* veil-color: brown=n,orange=o,white=w,yellow=y\n",
        " \n",
        "* ring-number: none=n,one=o,two=t\n",
        "\n",
        "* ring-type: cobwebby=c,evanescent=e,flaring=f,large=l,none=n,pendant=p,sheathing=s,zone=z\n",
        "\n",
        "* spore-print-color: black=k,brown=n,buff=b,chocolate=h,green=r,orange=o,purple=u,white=w,yellow=y\n",
        "\n",
        "* population: abundant=a,clustered=c,numerous=n,scattered=s,several=v,solitary=y\n",
        "\n",
        "* habitat: grasses=g,leaves=l,meadows=m,paths=p,urban=u,waste=w,woods=d"
      ],
      "metadata": {
        "id": "Infr85PW4xRL"
      }
    },
    {
      "cell_type": "code",
      "source": [
        "#Make copy of dataframe\n",
        "ml_df = df.copy()"
      ],
      "metadata": {
        "id": "YiNBSTZTQvEM"
      },
      "execution_count": 316,
      "outputs": []
    },
    {
      "cell_type": "code",
      "source": [
        "ml_df.info()"
      ],
      "metadata": {
        "colab": {
          "base_uri": "https://localhost:8080/"
        },
        "id": "eGPla8719M2Z",
        "outputId": "f939a261-5d7b-477d-90ec-d77199645463"
      },
      "execution_count": 317,
      "outputs": [
        {
          "output_type": "stream",
          "name": "stdout",
          "text": [
            "<class 'pandas.core.frame.DataFrame'>\n",
            "RangeIndex: 8124 entries, 0 to 8123\n",
            "Data columns (total 23 columns):\n",
            " #   Column                    Non-Null Count  Dtype \n",
            "---  ------                    --------------  ----- \n",
            " 0   class                     8124 non-null   object\n",
            " 1   cap-shape                 8124 non-null   object\n",
            " 2   cap-surface               8124 non-null   object\n",
            " 3   cap-color                 8124 non-null   object\n",
            " 4   bruises                   8124 non-null   object\n",
            " 5   odor                      8124 non-null   object\n",
            " 6   gill-attachment           8124 non-null   object\n",
            " 7   gill-spacing              8124 non-null   object\n",
            " 8   gill-size                 8124 non-null   object\n",
            " 9   gill-color                8124 non-null   object\n",
            " 10  stalk-shape               8124 non-null   object\n",
            " 11  stalk-root                8124 non-null   object\n",
            " 12  stalk-surface-above-ring  8124 non-null   object\n",
            " 13  stalk-surface-below-ring  8124 non-null   object\n",
            " 14  stalk-color-above-ring    8124 non-null   object\n",
            " 15  stalk-color-below-ring    8124 non-null   object\n",
            " 16  veil-type                 8124 non-null   object\n",
            " 17  veil-color                8124 non-null   object\n",
            " 18  ring-number               8124 non-null   object\n",
            " 19  ring-type                 8124 non-null   object\n",
            " 20  spore-print-color         8124 non-null   object\n",
            " 21  population                8124 non-null   object\n",
            " 22  habitat                   8124 non-null   object\n",
            "dtypes: object(23)\n",
            "memory usage: 1.4+ MB\n"
          ]
        }
      ]
    },
    {
      "cell_type": "code",
      "source": [
        "ml_df.duplicated().sum()"
      ],
      "metadata": {
        "colab": {
          "base_uri": "https://localhost:8080/"
        },
        "id": "LDQ3NWeIRezs",
        "outputId": "d1ee2f73-b331-4d6e-fd67-8e59dcabd322"
      },
      "execution_count": 318,
      "outputs": [
        {
          "output_type": "execute_result",
          "data": {
            "text/plain": [
              "0"
            ]
          },
          "metadata": {},
          "execution_count": 318
        }
      ]
    },
    {
      "cell_type": "markdown",
      "source": [
        "No duplicates in dataset"
      ],
      "metadata": {
        "id": "-24Lc9-y3cus"
      }
    },
    {
      "cell_type": "code",
      "source": [
        "#Delete unnecessary columns\n",
        "ml_df.drop(['bruises','stalk-shape', 'stalk-root', 'stalk-surface-above-ring', 'stalk-surface-below-ring',\n",
        "                             'stalk-color-above-ring', 'stalk-color-below-ring', 'veil-type', 'ring-number', 'population'], axis=1)"
      ],
      "metadata": {
        "id": "XtvXtsvxSBox",
        "colab": {
          "base_uri": "https://localhost:8080/",
          "height": 424
        },
        "outputId": "07165147-e501-4791-ef78-17060b72aad8"
      },
      "execution_count": 319,
      "outputs": [
        {
          "output_type": "execute_result",
          "data": {
            "text/plain": [
              "     class cap-shape cap-surface cap-color odor gill-attachment gill-spacing  \\\n",
              "0        p         x           s         n    p               f            c   \n",
              "1        e         x           s         y    a               f            c   \n",
              "2        e         b           s         w    l               f            c   \n",
              "3        p         x           y         w    p               f            c   \n",
              "4        e         x           s         g    n               f            w   \n",
              "...    ...       ...         ...       ...  ...             ...          ...   \n",
              "8119     e         k           s         n    n               a            c   \n",
              "8120     e         x           s         n    n               a            c   \n",
              "8121     e         f           s         n    n               a            c   \n",
              "8122     p         k           y         n    y               f            c   \n",
              "8123     e         x           s         n    n               a            c   \n",
              "\n",
              "     gill-size gill-color veil-color ring-type spore-print-color habitat  \n",
              "0            n          k          w         p                 k       u  \n",
              "1            b          k          w         p                 n       g  \n",
              "2            b          n          w         p                 n       m  \n",
              "3            n          n          w         p                 k       u  \n",
              "4            b          k          w         e                 n       g  \n",
              "...        ...        ...        ...       ...               ...     ...  \n",
              "8119         b          y          o         p                 b       l  \n",
              "8120         b          y          n         p                 b       l  \n",
              "8121         b          n          o         p                 b       l  \n",
              "8122         n          b          w         e                 w       l  \n",
              "8123         b          y          o         p                 o       l  \n",
              "\n",
              "[8124 rows x 13 columns]"
            ],
            "text/html": [
              "\n",
              "  <div id=\"df-acd62273-2f43-496b-9761-b626dd5d2d19\">\n",
              "    <div class=\"colab-df-container\">\n",
              "      <div>\n",
              "<style scoped>\n",
              "    .dataframe tbody tr th:only-of-type {\n",
              "        vertical-align: middle;\n",
              "    }\n",
              "\n",
              "    .dataframe tbody tr th {\n",
              "        vertical-align: top;\n",
              "    }\n",
              "\n",
              "    .dataframe thead th {\n",
              "        text-align: right;\n",
              "    }\n",
              "</style>\n",
              "<table border=\"1\" class=\"dataframe\">\n",
              "  <thead>\n",
              "    <tr style=\"text-align: right;\">\n",
              "      <th></th>\n",
              "      <th>class</th>\n",
              "      <th>cap-shape</th>\n",
              "      <th>cap-surface</th>\n",
              "      <th>cap-color</th>\n",
              "      <th>odor</th>\n",
              "      <th>gill-attachment</th>\n",
              "      <th>gill-spacing</th>\n",
              "      <th>gill-size</th>\n",
              "      <th>gill-color</th>\n",
              "      <th>veil-color</th>\n",
              "      <th>ring-type</th>\n",
              "      <th>spore-print-color</th>\n",
              "      <th>habitat</th>\n",
              "    </tr>\n",
              "  </thead>\n",
              "  <tbody>\n",
              "    <tr>\n",
              "      <th>0</th>\n",
              "      <td>p</td>\n",
              "      <td>x</td>\n",
              "      <td>s</td>\n",
              "      <td>n</td>\n",
              "      <td>p</td>\n",
              "      <td>f</td>\n",
              "      <td>c</td>\n",
              "      <td>n</td>\n",
              "      <td>k</td>\n",
              "      <td>w</td>\n",
              "      <td>p</td>\n",
              "      <td>k</td>\n",
              "      <td>u</td>\n",
              "    </tr>\n",
              "    <tr>\n",
              "      <th>1</th>\n",
              "      <td>e</td>\n",
              "      <td>x</td>\n",
              "      <td>s</td>\n",
              "      <td>y</td>\n",
              "      <td>a</td>\n",
              "      <td>f</td>\n",
              "      <td>c</td>\n",
              "      <td>b</td>\n",
              "      <td>k</td>\n",
              "      <td>w</td>\n",
              "      <td>p</td>\n",
              "      <td>n</td>\n",
              "      <td>g</td>\n",
              "    </tr>\n",
              "    <tr>\n",
              "      <th>2</th>\n",
              "      <td>e</td>\n",
              "      <td>b</td>\n",
              "      <td>s</td>\n",
              "      <td>w</td>\n",
              "      <td>l</td>\n",
              "      <td>f</td>\n",
              "      <td>c</td>\n",
              "      <td>b</td>\n",
              "      <td>n</td>\n",
              "      <td>w</td>\n",
              "      <td>p</td>\n",
              "      <td>n</td>\n",
              "      <td>m</td>\n",
              "    </tr>\n",
              "    <tr>\n",
              "      <th>3</th>\n",
              "      <td>p</td>\n",
              "      <td>x</td>\n",
              "      <td>y</td>\n",
              "      <td>w</td>\n",
              "      <td>p</td>\n",
              "      <td>f</td>\n",
              "      <td>c</td>\n",
              "      <td>n</td>\n",
              "      <td>n</td>\n",
              "      <td>w</td>\n",
              "      <td>p</td>\n",
              "      <td>k</td>\n",
              "      <td>u</td>\n",
              "    </tr>\n",
              "    <tr>\n",
              "      <th>4</th>\n",
              "      <td>e</td>\n",
              "      <td>x</td>\n",
              "      <td>s</td>\n",
              "      <td>g</td>\n",
              "      <td>n</td>\n",
              "      <td>f</td>\n",
              "      <td>w</td>\n",
              "      <td>b</td>\n",
              "      <td>k</td>\n",
              "      <td>w</td>\n",
              "      <td>e</td>\n",
              "      <td>n</td>\n",
              "      <td>g</td>\n",
              "    </tr>\n",
              "    <tr>\n",
              "      <th>...</th>\n",
              "      <td>...</td>\n",
              "      <td>...</td>\n",
              "      <td>...</td>\n",
              "      <td>...</td>\n",
              "      <td>...</td>\n",
              "      <td>...</td>\n",
              "      <td>...</td>\n",
              "      <td>...</td>\n",
              "      <td>...</td>\n",
              "      <td>...</td>\n",
              "      <td>...</td>\n",
              "      <td>...</td>\n",
              "      <td>...</td>\n",
              "    </tr>\n",
              "    <tr>\n",
              "      <th>8119</th>\n",
              "      <td>e</td>\n",
              "      <td>k</td>\n",
              "      <td>s</td>\n",
              "      <td>n</td>\n",
              "      <td>n</td>\n",
              "      <td>a</td>\n",
              "      <td>c</td>\n",
              "      <td>b</td>\n",
              "      <td>y</td>\n",
              "      <td>o</td>\n",
              "      <td>p</td>\n",
              "      <td>b</td>\n",
              "      <td>l</td>\n",
              "    </tr>\n",
              "    <tr>\n",
              "      <th>8120</th>\n",
              "      <td>e</td>\n",
              "      <td>x</td>\n",
              "      <td>s</td>\n",
              "      <td>n</td>\n",
              "      <td>n</td>\n",
              "      <td>a</td>\n",
              "      <td>c</td>\n",
              "      <td>b</td>\n",
              "      <td>y</td>\n",
              "      <td>n</td>\n",
              "      <td>p</td>\n",
              "      <td>b</td>\n",
              "      <td>l</td>\n",
              "    </tr>\n",
              "    <tr>\n",
              "      <th>8121</th>\n",
              "      <td>e</td>\n",
              "      <td>f</td>\n",
              "      <td>s</td>\n",
              "      <td>n</td>\n",
              "      <td>n</td>\n",
              "      <td>a</td>\n",
              "      <td>c</td>\n",
              "      <td>b</td>\n",
              "      <td>n</td>\n",
              "      <td>o</td>\n",
              "      <td>p</td>\n",
              "      <td>b</td>\n",
              "      <td>l</td>\n",
              "    </tr>\n",
              "    <tr>\n",
              "      <th>8122</th>\n",
              "      <td>p</td>\n",
              "      <td>k</td>\n",
              "      <td>y</td>\n",
              "      <td>n</td>\n",
              "      <td>y</td>\n",
              "      <td>f</td>\n",
              "      <td>c</td>\n",
              "      <td>n</td>\n",
              "      <td>b</td>\n",
              "      <td>w</td>\n",
              "      <td>e</td>\n",
              "      <td>w</td>\n",
              "      <td>l</td>\n",
              "    </tr>\n",
              "    <tr>\n",
              "      <th>8123</th>\n",
              "      <td>e</td>\n",
              "      <td>x</td>\n",
              "      <td>s</td>\n",
              "      <td>n</td>\n",
              "      <td>n</td>\n",
              "      <td>a</td>\n",
              "      <td>c</td>\n",
              "      <td>b</td>\n",
              "      <td>y</td>\n",
              "      <td>o</td>\n",
              "      <td>p</td>\n",
              "      <td>o</td>\n",
              "      <td>l</td>\n",
              "    </tr>\n",
              "  </tbody>\n",
              "</table>\n",
              "<p>8124 rows × 13 columns</p>\n",
              "</div>\n",
              "      <button class=\"colab-df-convert\" onclick=\"convertToInteractive('df-acd62273-2f43-496b-9761-b626dd5d2d19')\"\n",
              "              title=\"Convert this dataframe to an interactive table.\"\n",
              "              style=\"display:none;\">\n",
              "        \n",
              "  <svg xmlns=\"http://www.w3.org/2000/svg\" height=\"24px\"viewBox=\"0 0 24 24\"\n",
              "       width=\"24px\">\n",
              "    <path d=\"M0 0h24v24H0V0z\" fill=\"none\"/>\n",
              "    <path d=\"M18.56 5.44l.94 2.06.94-2.06 2.06-.94-2.06-.94-.94-2.06-.94 2.06-2.06.94zm-11 1L8.5 8.5l.94-2.06 2.06-.94-2.06-.94L8.5 2.5l-.94 2.06-2.06.94zm10 10l.94 2.06.94-2.06 2.06-.94-2.06-.94-.94-2.06-.94 2.06-2.06.94z\"/><path d=\"M17.41 7.96l-1.37-1.37c-.4-.4-.92-.59-1.43-.59-.52 0-1.04.2-1.43.59L10.3 9.45l-7.72 7.72c-.78.78-.78 2.05 0 2.83L4 21.41c.39.39.9.59 1.41.59.51 0 1.02-.2 1.41-.59l7.78-7.78 2.81-2.81c.8-.78.8-2.07 0-2.86zM5.41 20L4 18.59l7.72-7.72 1.47 1.35L5.41 20z\"/>\n",
              "  </svg>\n",
              "      </button>\n",
              "      \n",
              "  <style>\n",
              "    .colab-df-container {\n",
              "      display:flex;\n",
              "      flex-wrap:wrap;\n",
              "      gap: 12px;\n",
              "    }\n",
              "\n",
              "    .colab-df-convert {\n",
              "      background-color: #E8F0FE;\n",
              "      border: none;\n",
              "      border-radius: 50%;\n",
              "      cursor: pointer;\n",
              "      display: none;\n",
              "      fill: #1967D2;\n",
              "      height: 32px;\n",
              "      padding: 0 0 0 0;\n",
              "      width: 32px;\n",
              "    }\n",
              "\n",
              "    .colab-df-convert:hover {\n",
              "      background-color: #E2EBFA;\n",
              "      box-shadow: 0px 1px 2px rgba(60, 64, 67, 0.3), 0px 1px 3px 1px rgba(60, 64, 67, 0.15);\n",
              "      fill: #174EA6;\n",
              "    }\n",
              "\n",
              "    [theme=dark] .colab-df-convert {\n",
              "      background-color: #3B4455;\n",
              "      fill: #D2E3FC;\n",
              "    }\n",
              "\n",
              "    [theme=dark] .colab-df-convert:hover {\n",
              "      background-color: #434B5C;\n",
              "      box-shadow: 0px 1px 3px 1px rgba(0, 0, 0, 0.15);\n",
              "      filter: drop-shadow(0px 1px 2px rgba(0, 0, 0, 0.3));\n",
              "      fill: #FFFFFF;\n",
              "    }\n",
              "  </style>\n",
              "\n",
              "      <script>\n",
              "        const buttonEl =\n",
              "          document.querySelector('#df-acd62273-2f43-496b-9761-b626dd5d2d19 button.colab-df-convert');\n",
              "        buttonEl.style.display =\n",
              "          google.colab.kernel.accessAllowed ? 'block' : 'none';\n",
              "\n",
              "        async function convertToInteractive(key) {\n",
              "          const element = document.querySelector('#df-acd62273-2f43-496b-9761-b626dd5d2d19');\n",
              "          const dataTable =\n",
              "            await google.colab.kernel.invokeFunction('convertToInteractive',\n",
              "                                                     [key], {});\n",
              "          if (!dataTable) return;\n",
              "\n",
              "          const docLinkHtml = 'Like what you see? Visit the ' +\n",
              "            '<a target=\"_blank\" href=https://colab.research.google.com/notebooks/data_table.ipynb>data table notebook</a>'\n",
              "            + ' to learn more about interactive tables.';\n",
              "          element.innerHTML = '';\n",
              "          dataTable['output_type'] = 'display_data';\n",
              "          await google.colab.output.renderOutput(dataTable, element);\n",
              "          const docLink = document.createElement('div');\n",
              "          docLink.innerHTML = docLinkHtml;\n",
              "          element.appendChild(docLink);\n",
              "        }\n",
              "      </script>\n",
              "    </div>\n",
              "  </div>\n",
              "  "
            ]
          },
          "metadata": {},
          "execution_count": 319
        }
      ]
    },
    {
      "cell_type": "code",
      "source": [
        "ml_df.duplicated().sum()"
      ],
      "metadata": {
        "colab": {
          "base_uri": "https://localhost:8080/"
        },
        "id": "JsiXFj1u-wL3",
        "outputId": "11d53b42-c498-435a-aef8-6f7ae70cb2cc"
      },
      "execution_count": 320,
      "outputs": [
        {
          "output_type": "execute_result",
          "data": {
            "text/plain": [
              "0"
            ]
          },
          "metadata": {},
          "execution_count": 320
        }
      ]
    },
    {
      "cell_type": "markdown",
      "source": [
        "Dropped columns that aren't really needed because it doesnt give enough relative data to target."
      ],
      "metadata": {
        "id": "Ihnhkled26Oq"
      }
    },
    {
      "cell_type": "markdown",
      "source": [
        "Lots of duplicates but has discrepencies because of dataset and unable to drop do to similarities that it counts as duplicates.\n"
      ],
      "metadata": {
        "id": "LwRxyNoO3Gbp"
      }
    },
    {
      "cell_type": "code",
      "source": [
        "#Check for missing values\n",
        "ml_df.isna().sum()"
      ],
      "metadata": {
        "colab": {
          "base_uri": "https://localhost:8080/"
        },
        "id": "wiuTJF0QV5Ze",
        "outputId": "7ff2b811-586e-4f42-de80-43ac770ac0da"
      },
      "execution_count": 321,
      "outputs": [
        {
          "output_type": "execute_result",
          "data": {
            "text/plain": [
              "class                       0\n",
              "cap-shape                   0\n",
              "cap-surface                 0\n",
              "cap-color                   0\n",
              "bruises                     0\n",
              "odor                        0\n",
              "gill-attachment             0\n",
              "gill-spacing                0\n",
              "gill-size                   0\n",
              "gill-color                  0\n",
              "stalk-shape                 0\n",
              "stalk-root                  0\n",
              "stalk-surface-above-ring    0\n",
              "stalk-surface-below-ring    0\n",
              "stalk-color-above-ring      0\n",
              "stalk-color-below-ring      0\n",
              "veil-type                   0\n",
              "veil-color                  0\n",
              "ring-number                 0\n",
              "ring-type                   0\n",
              "spore-print-color           0\n",
              "population                  0\n",
              "habitat                     0\n",
              "dtype: int64"
            ]
          },
          "metadata": {},
          "execution_count": 321
        }
      ]
    },
    {
      "cell_type": "markdown",
      "source": [
        "##Identify and correct inconsistencies in data for categorical values"
      ],
      "metadata": {
        "id": "RrdVL0F11rFs"
      }
    },
    {
      "cell_type": "code",
      "source": [
        "#Check objects of dataset\n",
        "dtypes = ml_df.dtypes\n",
        "str_cols = dtypes[dtypes=='object'].index\n",
        "str_cols"
      ],
      "metadata": {
        "colab": {
          "base_uri": "https://localhost:8080/"
        },
        "id": "DBTeMeV5R9wv",
        "outputId": "4f1ad1a9-5772-46e1-d9d7-0120e5cf6daa"
      },
      "execution_count": 322,
      "outputs": [
        {
          "output_type": "execute_result",
          "data": {
            "text/plain": [
              "Index(['class', 'cap-shape', 'cap-surface', 'cap-color', 'bruises', 'odor',\n",
              "       'gill-attachment', 'gill-spacing', 'gill-size', 'gill-color',\n",
              "       'stalk-shape', 'stalk-root', 'stalk-surface-above-ring',\n",
              "       'stalk-surface-below-ring', 'stalk-color-above-ring',\n",
              "       'stalk-color-below-ring', 'veil-type', 'veil-color', 'ring-number',\n",
              "       'ring-type', 'spore-print-color', 'population', 'habitat'],\n",
              "      dtype='object')"
            ]
          },
          "metadata": {},
          "execution_count": 322
        }
      ]
    },
    {
      "cell_type": "code",
      "source": [
        "#Check for inconsistencies in objects\n",
        "for col in str_cols:\n",
        "    print(f\"- Column= {col}\")\n",
        "    print(df[col].value_counts(dropna=False))\n",
        "    print('\\n\\n')"
      ],
      "metadata": {
        "colab": {
          "base_uri": "https://localhost:8080/"
        },
        "id": "MgfkF3w6WPTY",
        "outputId": "e32a7d44-e703-4fbb-cb84-bcd0400f571b"
      },
      "execution_count": 323,
      "outputs": [
        {
          "output_type": "stream",
          "name": "stdout",
          "text": [
            "- Column= class\n",
            "e    4208\n",
            "p    3916\n",
            "Name: class, dtype: int64\n",
            "\n",
            "\n",
            "\n",
            "- Column= cap-shape\n",
            "x    3656\n",
            "f    3152\n",
            "k     828\n",
            "b     452\n",
            "s      32\n",
            "c       4\n",
            "Name: cap-shape, dtype: int64\n",
            "\n",
            "\n",
            "\n",
            "- Column= cap-surface\n",
            "y    3244\n",
            "s    2556\n",
            "f    2320\n",
            "g       4\n",
            "Name: cap-surface, dtype: int64\n",
            "\n",
            "\n",
            "\n",
            "- Column= cap-color\n",
            "n    2284\n",
            "g    1840\n",
            "e    1500\n",
            "y    1072\n",
            "w    1040\n",
            "b     168\n",
            "p     144\n",
            "c      44\n",
            "u      16\n",
            "r      16\n",
            "Name: cap-color, dtype: int64\n",
            "\n",
            "\n",
            "\n",
            "- Column= bruises\n",
            "f    4748\n",
            "t    3376\n",
            "Name: bruises, dtype: int64\n",
            "\n",
            "\n",
            "\n",
            "- Column= odor\n",
            "n    3528\n",
            "f    2160\n",
            "y     576\n",
            "s     576\n",
            "a     400\n",
            "l     400\n",
            "p     256\n",
            "c     192\n",
            "m      36\n",
            "Name: odor, dtype: int64\n",
            "\n",
            "\n",
            "\n",
            "- Column= gill-attachment\n",
            "f    7914\n",
            "a     210\n",
            "Name: gill-attachment, dtype: int64\n",
            "\n",
            "\n",
            "\n",
            "- Column= gill-spacing\n",
            "c    6812\n",
            "w    1312\n",
            "Name: gill-spacing, dtype: int64\n",
            "\n",
            "\n",
            "\n",
            "- Column= gill-size\n",
            "b    5612\n",
            "n    2512\n",
            "Name: gill-size, dtype: int64\n",
            "\n",
            "\n",
            "\n",
            "- Column= gill-color\n",
            "b    1728\n",
            "p    1492\n",
            "w    1202\n",
            "n    1048\n",
            "g     752\n",
            "h     732\n",
            "u     492\n",
            "k     408\n",
            "e      96\n",
            "y      86\n",
            "o      64\n",
            "r      24\n",
            "Name: gill-color, dtype: int64\n",
            "\n",
            "\n",
            "\n",
            "- Column= stalk-shape\n",
            "t    4608\n",
            "e    3516\n",
            "Name: stalk-shape, dtype: int64\n",
            "\n",
            "\n",
            "\n",
            "- Column= stalk-root\n",
            "b    3776\n",
            "?    2480\n",
            "e    1120\n",
            "c     556\n",
            "r     192\n",
            "Name: stalk-root, dtype: int64\n",
            "\n",
            "\n",
            "\n",
            "- Column= stalk-surface-above-ring\n",
            "s    5176\n",
            "k    2372\n",
            "f     552\n",
            "y      24\n",
            "Name: stalk-surface-above-ring, dtype: int64\n",
            "\n",
            "\n",
            "\n",
            "- Column= stalk-surface-below-ring\n",
            "s    4936\n",
            "k    2304\n",
            "f     600\n",
            "y     284\n",
            "Name: stalk-surface-below-ring, dtype: int64\n",
            "\n",
            "\n",
            "\n",
            "- Column= stalk-color-above-ring\n",
            "w    4464\n",
            "p    1872\n",
            "g     576\n",
            "n     448\n",
            "b     432\n",
            "o     192\n",
            "e      96\n",
            "c      36\n",
            "y       8\n",
            "Name: stalk-color-above-ring, dtype: int64\n",
            "\n",
            "\n",
            "\n",
            "- Column= stalk-color-below-ring\n",
            "w    4384\n",
            "p    1872\n",
            "g     576\n",
            "n     512\n",
            "b     432\n",
            "o     192\n",
            "e      96\n",
            "c      36\n",
            "y      24\n",
            "Name: stalk-color-below-ring, dtype: int64\n",
            "\n",
            "\n",
            "\n",
            "- Column= veil-type\n",
            "p    8124\n",
            "Name: veil-type, dtype: int64\n",
            "\n",
            "\n",
            "\n",
            "- Column= veil-color\n",
            "w    7924\n",
            "n      96\n",
            "o      96\n",
            "y       8\n",
            "Name: veil-color, dtype: int64\n",
            "\n",
            "\n",
            "\n",
            "- Column= ring-number\n",
            "o    7488\n",
            "t     600\n",
            "n      36\n",
            "Name: ring-number, dtype: int64\n",
            "\n",
            "\n",
            "\n",
            "- Column= ring-type\n",
            "p    3968\n",
            "e    2776\n",
            "l    1296\n",
            "f      48\n",
            "n      36\n",
            "Name: ring-type, dtype: int64\n",
            "\n",
            "\n",
            "\n",
            "- Column= spore-print-color\n",
            "w    2388\n",
            "n    1968\n",
            "k    1872\n",
            "h    1632\n",
            "r      72\n",
            "u      48\n",
            "o      48\n",
            "y      48\n",
            "b      48\n",
            "Name: spore-print-color, dtype: int64\n",
            "\n",
            "\n",
            "\n",
            "- Column= population\n",
            "v    4040\n",
            "y    1712\n",
            "s    1248\n",
            "n     400\n",
            "a     384\n",
            "c     340\n",
            "Name: population, dtype: int64\n",
            "\n",
            "\n",
            "\n",
            "- Column= habitat\n",
            "d    3148\n",
            "g    2148\n",
            "p    1144\n",
            "l     832\n",
            "u     368\n",
            "m     292\n",
            "w     192\n",
            "Name: habitat, dtype: int64\n",
            "\n",
            "\n",
            "\n"
          ]
        }
      ]
    },
    {
      "cell_type": "markdown",
      "source": [
        "No inconsistencies in dataset except all the data's row has letters instead of words so we dont know what it means. No outliers found in data"
      ],
      "metadata": {
        "id": "L57fTCiL2ElS"
      }
    },
    {
      "cell_type": "markdown",
      "source": [
        "##Replace all columns rows with words instead of letters"
      ],
      "metadata": {
        "id": "7eeQjGIZ2V_S"
      }
    },
    {
      "cell_type": "code",
      "source": [
        "#Change all columns values\n",
        "ml_df['class'].replace({'p':'Poisonous', 'e':'Edible'}, inplace=True)\n",
        "ml_df['cap-color'].replace({'n':'Brown', 'b':'Buff', 'c':'Cinnamon', 'g':'Gray', \n",
        "                            'r':'Green', 'p':'Pink', 'u':'Purple', 'e':'Red', 'w':'White', 'y':'Yellow'}, inplace=True)\n",
        "ml_df['cap-shape'].replace({'b':'Bell', 'c':'Conical', 'x':'Convex', 'f':'flat',\n",
        "                            'k':'Knobbed', 's':'Sunken'}, inplace=True)\n",
        "ml_df['cap-surface'].replace({'f':'Fibrous', 'g':'Grooves', 'y':'Scaly', 's':'smooth'}, inplace=True)\n",
        "ml_df['gill-attachment'].replace({'a':'Attached', 'd':'Descending', 'f':'Free', 'n':'Notched'}, inplace=True)\n",
        "ml_df['gill-spacing'].replace({'c':'Close', 'w':'Crowded', 'd':'Distance'}, inplace=True)\n",
        "ml_df['gill-size'].replace({'b':'Broad', 'n':'Narrow'}, inplace=True)\n",
        "ml_df['gill-color'].replace({'k':'Black', 'n':'Brown', 'b':'Buff', 'h':'Chocolate',\n",
        "                             'g':'Gray', 'r':'Green', 'o':'Orange', 'p':'Pink',\n",
        "                             'u':'Purple', 'e':'Red', 'w':'White', 'y':'Yellow'}, inplace=True)\n",
        "ml_df['veil-color'].replace({'n':'Brown', 'o':'Orange', 'w':'White', 'y':'Yellow'}, inplace=True)\n",
        "ml_df['ring-type'].replace({'c':'Cobwebby', 'e':'Evanescent','f':'Flaring', 'l':'Large',\n",
        "                            'n':'None', 'p':'Pendant', 's':'Sheating', 'z':'Zone'}, inplace=True)\n",
        "ml_df['spore-print-color'].replace({'k':'Black', 'n':'Brown', 'h':'Chocolate', 'r':'Green','b':'Buff',\n",
        "                                     'o':'Orange', 'u':'Purple', 'w':'White', 'y':'Yellow'}, inplace=True)\n",
        "ml_df['habitat'].replace({'g':'Grasses', 'l':'Leaves', 'm':'Meadows', 'p':'Paths',\n",
        "                          'u':'Urban', 'w':'Waste', 'd':'Woods'}, inplace=True)\n",
        "ml_df['population'].replace({'a':'Abundant', 'c':'Clustered', 'n':'Numerous', 's':'Scattered',\n",
        "                          'v':'Several', 'y':'Solitary'}, inplace=True)\n"
      ],
      "metadata": {
        "id": "KNPcI-JSaI5A"
      },
      "execution_count": 324,
      "outputs": []
    },
    {
      "cell_type": "markdown",
      "source": [
        "Changed all rows letters to names for clearer representation of columns."
      ],
      "metadata": {
        "id": "v2zB_K_Qi9QD"
      }
    },
    {
      "cell_type": "code",
      "source": [
        "from matplotlib import legend\n",
        "from seaborn.rcmod import set_style\n",
        "# Use Histogram to produce target visualization\n",
        "sns.histplot(data=ml_df, x='class');\n",
        "set_style('darkgrid')\n",
        "plt.xlabel('Type of Mushroom', fontsize=16);\n",
        "plt.ylabel('Number of mushrooms', fontsize=16);\n",
        "plt.title('Number of Mushrooms That are Edible', fontsize=20);"
      ],
      "metadata": {
        "colab": {
          "base_uri": "https://localhost:8080/",
          "height": 387
        },
        "id": "iDUzDtmtYwPU",
        "outputId": "c4777008-ee4e-4106-bea2-a8ced0b80fa0"
      },
      "execution_count": 325,
      "outputs": [
        {
          "output_type": "display_data",
          "data": {
            "text/plain": [
              "<Figure size 576x396 with 1 Axes>"
            ],
            "image/png": "[encoded data removed]"
          },
          "metadata": {}
        }
      ]
    },
    {
      "cell_type": "markdown",
      "source": [
        "Number of edible mushrooms."
      ],
      "metadata": {
        "id": "EvrJVumZJAZN"
      }
    },
    {
      "cell_type": "code",
      "source": [
        "sns.histplot(data=ml_df, x='cap-shape');\n",
        "set_style('darkgrid')\n",
        "plt.xlabel('Type of Mushroom', fontsize=16);\n",
        "plt.ylabel('Number of mushrooms', fontsize=16);\n",
        "plt.title('Total Mushrooms by Shape', fontsize=20);"
      ],
      "metadata": {
        "colab": {
          "base_uri": "https://localhost:8080/",
          "height": 387
        },
        "id": "_NVg0wxAMu1U",
        "outputId": "b993a2c9-8b61-43ec-8083-f76d6d9d03d2"
      },
      "execution_count": 326,
      "outputs": [
        {
          "output_type": "display_data",
          "data": {
            "text/plain": [
              "<Figure size 576x396 with 1 Axes>"
            ],
            "image/png": "[encoded data removed]"
          },
          "metadata": {}
        }
      ]
    },
    {
      "cell_type": "markdown",
      "source": [
        "Most the mushrooms in dataset have flat or convex cap shapes."
      ],
      "metadata": {
        "id": "lqh2bFJ_M6Bj"
      }
    },
    {
      "cell_type": "code",
      "source": [
        "sns.scatterplot(x=ml_df.index, y=ml_df['cap-color'], hue=ml_df['class']);\n",
        "plt.ylabel('Cap Colors', fontsize=14);\n",
        "plt.xlabel('Number of Poisonous and Edible',fontsize=14);\n",
        "plt.title('Poisonous or Edible Mushroom by Cap Color', fontsize=16);"
      ],
      "metadata": {
        "colab": {
          "base_uri": "https://localhost:8080/",
          "height": 383
        },
        "id": "-hRguGWDbrBm",
        "outputId": "d75f10a2-b280-4eac-8e23-109468e2bc98"
      },
      "execution_count": 327,
      "outputs": [
        {
          "output_type": "display_data",
          "data": {
            "text/plain": [
              "<Figure size 576x396 with 1 Axes>"
            ],
            "image/png": "[encoded data removed]"
          },
          "metadata": {}
        }
      ]
    },
    {
      "cell_type": "markdown",
      "source": [
        "Number of poisonous and edible mushrooms in relation to cap color"
      ],
      "metadata": {
        "id": "twERx9_cI3wu"
      }
    },
    {
      "cell_type": "code",
      "source": [
        "plt.style.use('seaborn')\n",
        "ml_df['cap-surface'].hist()\n",
        "set_style('darkgrid')\n",
        "plt.xticks(rotation=55)\n",
        "plt.xlabel('Types of Surface', fontsize=16);\n",
        "plt.ylabel('Number of Mushrooms by aps ', fontsize=16);\n",
        "plt.title('The Surfaces of Mushroom CaCps', fontsize=20);"
      ],
      "metadata": {
        "colab": {
          "base_uri": "https://localhost:8080/",
          "height": 416
        },
        "id": "lD2S3I7dQYHo",
        "outputId": "2b14abf9-6df6-4f44-b005-ec0b3497c0eb"
      },
      "execution_count": 328,
      "outputs": [
        {
          "output_type": "display_data",
          "data": {
            "text/plain": [
              "<Figure size 576x396 with 1 Axes>"
            ],
            "image/png": "[encoded data removed]"
          },
          "metadata": {}
        }
      ]
    },
    {
      "cell_type": "markdown",
      "source": [
        "Most the mushrooms caps have fairly the same amount of different surface except grooves."
      ],
      "metadata": {
        "id": "MA1ekMj_Q391"
      }
    },
    {
      "cell_type": "code",
      "source": [
        "plt.scatter(ml_df.index, ml_df['ring-type']);\n",
        "plt.xlabel('Types of Rings', fontsize=16);\n",
        "plt.ylabel('Number of mushrooms',fontsize=16);\n",
        "plt.title('Total Mushrooms Seperated by Ring Type',fontsize=16);"
      ],
      "metadata": {
        "colab": {
          "base_uri": "https://localhost:8080/",
          "height": 384
        },
        "id": "gKOI6SzbEjBP",
        "outputId": "4dd512f3-8928-4b94-b492-0a4ccba61c66"
      },
      "execution_count": 329,
      "outputs": [
        {
          "output_type": "display_data",
          "data": {
            "text/plain": [
              "<Figure size 576x396 with 1 Axes>"
            ],
            "image/png": "[encoded data removed]"
          },
          "metadata": {}
        }
      ]
    },
    {
      "cell_type": "markdown",
      "source": [
        "Mushrooms of ring types and pendant makes up the majority of the mushrooms."
      ],
      "metadata": {
        "id": "fAD6-z7xJO9p"
      }
    },
    {
      "cell_type": "code",
      "source": [
        "sns.histplot(data=ml_df, x='gill-attachment');\n",
        "set_style('darkgrid')\n",
        "plt.xticks(rotation= 45)\n",
        "plt.xlabel('Type of Mushroom', fontsize=16);\n",
        "plt.ylabel('Number of mushrooms', fontsize=16);\n",
        "plt.title('Mushrooms by Gill Attachment', fontsize=20);"
      ],
      "metadata": {
        "colab": {
          "base_uri": "https://localhost:8080/",
          "height": 416
        },
        "id": "KLE_Q3smOYRz",
        "outputId": "c1f1a192-87c4-49bd-8183-ce865dd11d7b"
      },
      "execution_count": 330,
      "outputs": [
        {
          "output_type": "display_data",
          "data": {
            "text/plain": [
              "<Figure size 576x396 with 1 Axes>"
            ],
            "image/png": "[encoded data removed]"
          },
          "metadata": {}
        }
      ]
    },
    {
      "cell_type": "markdown",
      "source": [
        "Majority of the gill attachment is free."
      ],
      "metadata": {
        "id": "yRFmrAE-OpEa"
      }
    },
    {
      "cell_type": "code",
      "source": [
        "sns.histplot(data=ml_df, x='gill-spacing');\n",
        "set_style('darkgrid')\n",
        "plt.xticks(rotation= 45)\n",
        "plt.xlabel('Type of Mushroom', fontsize=16);\n",
        "plt.ylabel('Number of mushrooms', fontsize=16);\n",
        "plt.title('Mushrooms by Gill Spacing', fontsize=20);\n"
      ],
      "metadata": {
        "colab": {
          "base_uri": "https://localhost:8080/",
          "height": 415
        },
        "id": "sZjmdRgKeuyc",
        "outputId": "f14b9770-0479-4986-c511-57fa75eb5c6d"
      },
      "execution_count": 331,
      "outputs": [
        {
          "output_type": "display_data",
          "data": {
            "text/plain": [
              "<Figure size 576x396 with 1 Axes>"
            ],
            "image/png": "[encoded data removed]"
          },
          "metadata": {}
        }
      ]
    },
    {
      "cell_type": "markdown",
      "source": [
        "Amount of mushrooms in dataset that are closed or crowded"
      ],
      "metadata": {
        "id": "5W7XALe5JV9a"
      }
    },
    {
      "cell_type": "code",
      "source": [
        "sns.histplot(data=ml_df, x='gill-size');\n",
        "set_style('darkgrid')\n",
        "plt.xlabel('Gill type', fontsize=16);\n",
        "plt.ylabel('Number of mushrooms', fontsize=16);\n",
        "plt.title('Number of Mushrooms by Gill Size', fontsize=20);"
      ],
      "metadata": {
        "colab": {
          "base_uri": "https://localhost:8080/",
          "height": 387
        },
        "id": "orgcGxCjNKyj",
        "outputId": "3f403d7c-57d8-4b22-97ea-80686591392f"
      },
      "execution_count": 332,
      "outputs": [
        {
          "output_type": "display_data",
          "data": {
            "text/plain": [
              "<Figure size 576x396 with 1 Axes>"
            ],
            "image/png": "[encoded data removed]"
          },
          "metadata": {}
        }
      ]
    },
    {
      "cell_type": "markdown",
      "source": [
        "The chart shows that broad gill size has twice the amount of narrow gill size from dataset."
      ],
      "metadata": {
        "id": "meEOzbmZNYoR"
      }
    },
    {
      "cell_type": "code",
      "source": [
        "sns.histplot(data=ml_df, x='gill-color');\n",
        "plt.xticks(rotation=45);\n",
        "plt.xlabel('Color of Gill', fontsize=16);\n",
        "plt.ylabel('Count of Mushrooms',fontsize=16);\n",
        "plt.title('Total Number of Mushrooms by Gill Color', fontsize=16);"
      ],
      "metadata": {
        "colab": {
          "base_uri": "https://localhost:8080/",
          "height": 416
        },
        "id": "Gr_UmgmmdKtF",
        "outputId": "57a106c9-8b2c-4aa0-87aa-3ed3e706f3c3"
      },
      "execution_count": 333,
      "outputs": [
        {
          "output_type": "display_data",
          "data": {
            "text/plain": [
              "<Figure size 576x396 with 1 Axes>"
            ],
            "image/png": "[encoded data removed]"
          },
          "metadata": {}
        }
      ]
    },
    {
      "cell_type": "markdown",
      "source": [
        "Gill colors and we can see that most the mushrooms are a buff color. "
      ],
      "metadata": {
        "id": "dobBz1hCKa9P"
      }
    },
    {
      "cell_type": "code",
      "source": [
        "sns.histplot(data=ml_df, x='odor');\n",
        "plt.xticks(rotation=45);\n",
        "plt.xlabel('Type of Odor');\n",
        "plt.ylabel('Number of Mushrooms');\n",
        "plt.title('Total Amount of Odor of Mushrooms');"
      ],
      "metadata": {
        "colab": {
          "base_uri": "https://localhost:8080/",
          "height": 381
        },
        "id": "MKP_3yzFEc4l",
        "outputId": "d03cedcd-c95d-4a48-c345-d76a910ae48e"
      },
      "execution_count": 334,
      "outputs": [
        {
          "output_type": "display_data",
          "data": {
            "text/plain": [
              "<Figure size 576x396 with 1 Axes>"
            ],
            "image/png": "[encoded data removed]"
          },
          "metadata": {}
        }
      ]
    },
    {
      "cell_type": "markdown",
      "source": [
        "We can see most mushrooms in dataset have no smell or a foul smell."
      ],
      "metadata": {
        "id": "8pjRfoe3LBt3"
      }
    },
    {
      "cell_type": "code",
      "source": [
        "plt.style.use('seaborn')\n",
        "ml_df['gill-color'].hist()\n",
        "set_style('darkgrid')\n",
        "plt.xticks(rotation=55)\n",
        "plt.xlabel('Types of Veil Colors', fontsize=16);\n",
        "plt.ylabel('Number of Mushrooms by color', fontsize=16);"
      ],
      "metadata": {
        "colab": {
          "base_uri": "https://localhost:8080/",
          "height": 402
        },
        "id": "jJ29rObaogvP",
        "outputId": "d3844a1f-296a-43d8-dff5-d05847382b82"
      },
      "execution_count": 335,
      "outputs": [
        {
          "output_type": "display_data",
          "data": {
            "text/plain": [
              "<Figure size 576x396 with 1 Axes>"
            ],
            "image/png": "[encoded data removed]"
          },
          "metadata": {}
        }
      ]
    },
    {
      "cell_type": "markdown",
      "source": [
        "Some colors of the veil are more than others."
      ],
      "metadata": {
        "id": "UjpPWTMTLK4I"
      }
    },
    {
      "cell_type": "code",
      "source": [
        "sns.histplot(data= ml_df, x= 'spore-print-color', edgecolor='black');\n",
        "plt.xlabel('Color of Spore', fontsize=16);\n",
        "plt.title('Total Number of Spore Colors',fontsize=20);\n",
        "plt.ylabel('Number of Spores');"
      ],
      "metadata": {
        "colab": {
          "base_uri": "https://localhost:8080/",
          "height": 387
        },
        "id": "GyWyQS_OD94J",
        "outputId": "a808cba9-85b7-4222-ae8d-f78529dd89ea"
      },
      "execution_count": 336,
      "outputs": [
        {
          "output_type": "display_data",
          "data": {
            "text/plain": [
              "<Figure size 576x396 with 1 Axes>"
            ],
            "image/png": "[encoded data removed]"
          },
          "metadata": {}
        }
      ]
    },
    {
      "cell_type": "markdown",
      "source": [
        "Number of mushrooms spores by colors and there are four colors that make up the majority of the dataset."
      ],
      "metadata": {
        "id": "eiiQREE0LVRS"
      }
    },
    {
      "cell_type": "code",
      "source": [
        "plt.scatter(ml_df.index, ml_df['habitat']);\n",
        "plt.xlabel('Number of Habiitats', fontsize=14);\n",
        "plt.ylabel('Types of Habitat', fontsize=14);\n",
        "plt.title('Number of Mushrooms Found by Habitat', fontsize=16);"
      ],
      "metadata": {
        "colab": {
          "base_uri": "https://localhost:8080/",
          "height": 383
        },
        "id": "DrfXn9-Vm1sZ",
        "outputId": "5a3e4e08-3c7e-44f1-bdab-3e8d0a1bd855"
      },
      "execution_count": 337,
      "outputs": [
        {
          "output_type": "display_data",
          "data": {
            "text/plain": [
              "<Figure size 576x396 with 1 Axes>"
            ],
            "image/png": "[encoded data removed]"
          },
          "metadata": {}
        }
      ]
    },
    {
      "cell_type": "markdown",
      "source": [
        "A scatterplot of the habitats most mushrooms were found in and four of the areas make up the majority of the dataset."
      ],
      "metadata": {
        "id": "jNGM3YIVLmgw"
      }
    },
    {
      "cell_type": "code",
      "source": [
        "ml_df.describe()"
      ],
      "metadata": {
        "colab": {
          "base_uri": "https://localhost:8080/",
          "height": 291
        },
        "id": "BSpuaFrJ_E3G",
        "outputId": "a45f79bd-638d-47b6-c6c6-9f670e39a56f"
      },
      "execution_count": 338,
      "outputs": [
        {
          "output_type": "execute_result",
          "data": {
            "text/plain": [
              "         class cap-shape cap-surface cap-color bruises  odor gill-attachment  \\\n",
              "count     8124      8124        8124      8124    8124  8124            8124   \n",
              "unique       2         6           4        10       2     9               2   \n",
              "top     Edible    Convex       Scaly     Brown       f     n            Free   \n",
              "freq      4208      3656        3244      2284    4748  3528            7914   \n",
              "\n",
              "       gill-spacing gill-size gill-color stalk-shape stalk-root  \\\n",
              "count          8124      8124       8124        8124       8124   \n",
              "unique            2         2         12           2          5   \n",
              "top           Close     Broad       Buff           t          b   \n",
              "freq           6812      5612       1728        4608       3776   \n",
              "\n",
              "       stalk-surface-above-ring stalk-surface-below-ring  \\\n",
              "count                      8124                     8124   \n",
              "unique                        4                        4   \n",
              "top                           s                        s   \n",
              "freq                       5176                     4936   \n",
              "\n",
              "       stalk-color-above-ring stalk-color-below-ring veil-type veil-color  \\\n",
              "count                    8124                   8124      8124       8124   \n",
              "unique                      9                      9         1          4   \n",
              "top                         w                      w         p      White   \n",
              "freq                     4464                   4384      8124       7924   \n",
              "\n",
              "       ring-number ring-type spore-print-color population habitat  \n",
              "count         8124      8124              8124       8124    8124  \n",
              "unique           3         5                 9          6       7  \n",
              "top              o   Pendant             White    Several   Woods  \n",
              "freq          7488      3968              2388       4040    3148  "
            ],
            "text/html": [
              "\n",
              "  <div id=\"df-3f5baf10-abf6-4a8f-a423-f4ff6627d5f5\">\n",
              "    <div class=\"colab-df-container\">\n",
              "      <div>\n",
              "<style scoped>\n",
              "    .dataframe tbody tr th:only-of-type {\n",
              "        vertical-align: middle;\n",
              "    }\n",
              "\n",
              "    .dataframe tbody tr th {\n",
              "        vertical-align: top;\n",
              "    }\n",
              "\n",
              "    .dataframe thead th {\n",
              "        text-align: right;\n",
              "    }\n",
              "</style>\n",
              "<table border=\"1\" class=\"dataframe\">\n",
              "  <thead>\n",
              "    <tr style=\"text-align: right;\">\n",
              "      <th></th>\n",
              "      <th>class</th>\n",
              "      <th>cap-shape</th>\n",
              "      <th>cap-surface</th>\n",
              "      <th>cap-color</th>\n",
              "      <th>bruises</th>\n",
              "      <th>odor</th>\n",
              "      <th>gill-attachment</th>\n",
              "      <th>gill-spacing</th>\n",
              "      <th>gill-size</th>\n",
              "      <th>gill-color</th>\n",
              "      <th>stalk-shape</th>\n",
              "      <th>stalk-root</th>\n",
              "      <th>stalk-surface-above-ring</th>\n",
              "      <th>stalk-surface-below-ring</th>\n",
              "      <th>stalk-color-above-ring</th>\n",
              "      <th>stalk-color-below-ring</th>\n",
              "      <th>veil-type</th>\n",
              "      <th>veil-color</th>\n",
              "      <th>ring-number</th>\n",
              "      <th>ring-type</th>\n",
              "      <th>spore-print-color</th>\n",
              "      <th>population</th>\n",
              "      <th>habitat</th>\n",
              "    </tr>\n",
              "  </thead>\n",
              "  <tbody>\n",
              "    <tr>\n",
              "      <th>count</th>\n",
              "      <td>8124</td>\n",
              "      <td>8124</td>\n",
              "      <td>8124</td>\n",
              "      <td>8124</td>\n",
              "      <td>8124</td>\n",
              "      <td>8124</td>\n",
              "      <td>8124</td>\n",
              "      <td>8124</td>\n",
              "      <td>8124</td>\n",
              "      <td>8124</td>\n",
              "      <td>8124</td>\n",
              "      <td>8124</td>\n",
              "      <td>8124</td>\n",
              "      <td>8124</td>\n",
              "      <td>8124</td>\n",
              "      <td>8124</td>\n",
              "      <td>8124</td>\n",
              "      <td>8124</td>\n",
              "      <td>8124</td>\n",
              "      <td>8124</td>\n",
              "      <td>8124</td>\n",
              "      <td>8124</td>\n",
              "      <td>8124</td>\n",
              "    </tr>\n",
              "    <tr>\n",
              "      <th>unique</th>\n",
              "      <td>2</td>\n",
              "      <td>6</td>\n",
              "      <td>4</td>\n",
              "      <td>10</td>\n",
              "      <td>2</td>\n",
              "      <td>9</td>\n",
              "      <td>2</td>\n",
              "      <td>2</td>\n",
              "      <td>2</td>\n",
              "      <td>12</td>\n",
              "      <td>2</td>\n",
              "      <td>5</td>\n",
              "      <td>4</td>\n",
              "      <td>4</td>\n",
              "      <td>9</td>\n",
              "      <td>9</td>\n",
              "      <td>1</td>\n",
              "      <td>4</td>\n",
              "      <td>3</td>\n",
              "      <td>5</td>\n",
              "      <td>9</td>\n",
              "      <td>6</td>\n",
              "      <td>7</td>\n",
              "    </tr>\n",
              "    <tr>\n",
              "      <th>top</th>\n",
              "      <td>Edible</td>\n",
              "      <td>Convex</td>\n",
              "      <td>Scaly</td>\n",
              "      <td>Brown</td>\n",
              "      <td>f</td>\n",
              "      <td>n</td>\n",
              "      <td>Free</td>\n",
              "      <td>Close</td>\n",
              "      <td>Broad</td>\n",
              "      <td>Buff</td>\n",
              "      <td>t</td>\n",
              "      <td>b</td>\n",
              "      <td>s</td>\n",
              "      <td>s</td>\n",
              "      <td>w</td>\n",
              "      <td>w</td>\n",
              "      <td>p</td>\n",
              "      <td>White</td>\n",
              "      <td>o</td>\n",
              "      <td>Pendant</td>\n",
              "      <td>White</td>\n",
              "      <td>Several</td>\n",
              "      <td>Woods</td>\n",
              "    </tr>\n",
              "    <tr>\n",
              "      <th>freq</th>\n",
              "      <td>4208</td>\n",
              "      <td>3656</td>\n",
              "      <td>3244</td>\n",
              "      <td>2284</td>\n",
              "      <td>4748</td>\n",
              "      <td>3528</td>\n",
              "      <td>7914</td>\n",
              "      <td>6812</td>\n",
              "      <td>5612</td>\n",
              "      <td>1728</td>\n",
              "      <td>4608</td>\n",
              "      <td>3776</td>\n",
              "      <td>5176</td>\n",
              "      <td>4936</td>\n",
              "      <td>4464</td>\n",
              "      <td>4384</td>\n",
              "      <td>8124</td>\n",
              "      <td>7924</td>\n",
              "      <td>7488</td>\n",
              "      <td>3968</td>\n",
              "      <td>2388</td>\n",
              "      <td>4040</td>\n",
              "      <td>3148</td>\n",
              "    </tr>\n",
              "  </tbody>\n",
              "</table>\n",
              "</div>\n",
              "      <button class=\"colab-df-convert\" onclick=\"convertToInteractive('df-3f5baf10-abf6-4a8f-a423-f4ff6627d5f5')\"\n",
              "              title=\"Convert this dataframe to an interactive table.\"\n",
              "              style=\"display:none;\">\n",
              "        \n",
              "  <svg xmlns=\"http://www.w3.org/2000/svg\" height=\"24px\"viewBox=\"0 0 24 24\"\n",
              "       width=\"24px\">\n",
              "    <path d=\"M0 0h24v24H0V0z\" fill=\"none\"/>\n",
              "    <path d=\"M18.56 5.44l.94 2.06.94-2.06 2.06-.94-2.06-.94-.94-2.06-.94 2.06-2.06.94zm-11 1L8.5 8.5l.94-2.06 2.06-.94-2.06-.94L8.5 2.5l-.94 2.06-2.06.94zm10 10l.94 2.06.94-2.06 2.06-.94-2.06-.94-.94-2.06-.94 2.06-2.06.94z\"/><path d=\"M17.41 7.96l-1.37-1.37c-.4-.4-.92-.59-1.43-.59-.52 0-1.04.2-1.43.59L10.3 9.45l-7.72 7.72c-.78.78-.78 2.05 0 2.83L4 21.41c.39.39.9.59 1.41.59.51 0 1.02-.2 1.41-.59l7.78-7.78 2.81-2.81c.8-.78.8-2.07 0-2.86zM5.41 20L4 18.59l7.72-7.72 1.47 1.35L5.41 20z\"/>\n",
              "  </svg>\n",
              "      </button>\n",
              "      \n",
              "  <style>\n",
              "    .colab-df-container {\n",
              "      display:flex;\n",
              "      flex-wrap:wrap;\n",
              "      gap: 12px;\n",
              "    }\n",
              "\n",
              "    .colab-df-convert {\n",
              "      background-color: #E8F0FE;\n",
              "      border: none;\n",
              "      border-radius: 50%;\n",
              "      cursor: pointer;\n",
              "      display: none;\n",
              "      fill: #1967D2;\n",
              "      height: 32px;\n",
              "      padding: 0 0 0 0;\n",
              "      width: 32px;\n",
              "    }\n",
              "\n",
              "    .colab-df-convert:hover {\n",
              "      background-color: #E2EBFA;\n",
              "      box-shadow: 0px 1px 2px rgba(60, 64, 67, 0.3), 0px 1px 3px 1px rgba(60, 64, 67, 0.15);\n",
              "      fill: #174EA6;\n",
              "    }\n",
              "\n",
              "    [theme=dark] .colab-df-convert {\n",
              "      background-color: #3B4455;\n",
              "      fill: #D2E3FC;\n",
              "    }\n",
              "\n",
              "    [theme=dark] .colab-df-convert:hover {\n",
              "      background-color: #434B5C;\n",
              "      box-shadow: 0px 1px 3px 1px rgba(0, 0, 0, 0.15);\n",
              "      filter: drop-shadow(0px 1px 2px rgba(0, 0, 0, 0.3));\n",
              "      fill: #FFFFFF;\n",
              "    }\n",
              "  </style>\n",
              "\n",
              "      <script>\n",
              "        const buttonEl =\n",
              "          document.querySelector('#df-3f5baf10-abf6-4a8f-a423-f4ff6627d5f5 button.colab-df-convert');\n",
              "        buttonEl.style.display =\n",
              "          google.colab.kernel.accessAllowed ? 'block' : 'none';\n",
              "\n",
              "        async function convertToInteractive(key) {\n",
              "          const element = document.querySelector('#df-3f5baf10-abf6-4a8f-a423-f4ff6627d5f5');\n",
              "          const dataTable =\n",
              "            await google.colab.kernel.invokeFunction('convertToInteractive',\n",
              "                                                     [key], {});\n",
              "          if (!dataTable) return;\n",
              "\n",
              "          const docLinkHtml = 'Like what you see? Visit the ' +\n",
              "            '<a target=\"_blank\" href=https://colab.research.google.com/notebooks/data_table.ipynb>data table notebook</a>'\n",
              "            + ' to learn more about interactive tables.';\n",
              "          element.innerHTML = '';\n",
              "          dataTable['output_type'] = 'display_data';\n",
              "          await google.colab.output.renderOutput(dataTable, element);\n",
              "          const docLink = document.createElement('div');\n",
              "          docLink.innerHTML = docLinkHtml;\n",
              "          element.appendChild(docLink);\n",
              "        }\n",
              "      </script>\n",
              "    </div>\n",
              "  </div>\n",
              "  "
            ]
          },
          "metadata": {},
          "execution_count": 338
        }
      ]
    },
    {
      "cell_type": "code",
      "source": [
        "ml_df.groupby(by=['cap-shape','class']).count()\n"
      ],
      "metadata": {
        "colab": {
          "base_uri": "https://localhost:8080/",
          "height": 508
        },
        "id": "BENXOaE8Bemz",
        "outputId": "cdf35840-b985-4683-fc9a-0593af861e67"
      },
      "execution_count": 339,
      "outputs": [
        {
          "output_type": "execute_result",
          "data": {
            "text/plain": [
              "                     cap-surface  cap-color  bruises  odor  gill-attachment  \\\n",
              "cap-shape class                                                               \n",
              "Bell      Edible             404        404      404   404              404   \n",
              "          Poisonous           48         48       48    48               48   \n",
              "Conical   Poisonous            4          4        4     4                4   \n",
              "Convex    Edible            1948       1948     1948  1948             1948   \n",
              "          Poisonous         1708       1708     1708  1708             1708   \n",
              "Knobbed   Edible             228        228      228   228              228   \n",
              "          Poisonous          600        600      600   600              600   \n",
              "Sunken    Edible              32         32       32    32               32   \n",
              "flat      Edible            1596       1596     1596  1596             1596   \n",
              "          Poisonous         1556       1556     1556  1556             1556   \n",
              "\n",
              "                     gill-spacing  gill-size  gill-color  stalk-shape  \\\n",
              "cap-shape class                                                         \n",
              "Bell      Edible              404        404         404          404   \n",
              "          Poisonous            48         48          48           48   \n",
              "Conical   Poisonous             4          4           4            4   \n",
              "Convex    Edible             1948       1948        1948         1948   \n",
              "          Poisonous          1708       1708        1708         1708   \n",
              "Knobbed   Edible              228        228         228          228   \n",
              "          Poisonous           600        600         600          600   \n",
              "Sunken    Edible               32         32          32           32   \n",
              "flat      Edible             1596       1596        1596         1596   \n",
              "          Poisonous          1556       1556        1556         1556   \n",
              "\n",
              "                     stalk-root  stalk-surface-above-ring  \\\n",
              "cap-shape class                                             \n",
              "Bell      Edible            404                       404   \n",
              "          Poisonous          48                        48   \n",
              "Conical   Poisonous           4                         4   \n",
              "Convex    Edible           1948                      1948   \n",
              "          Poisonous        1708                      1708   \n",
              "Knobbed   Edible            228                       228   \n",
              "          Poisonous         600                       600   \n",
              "Sunken    Edible             32                        32   \n",
              "flat      Edible           1596                      1596   \n",
              "          Poisonous        1556                      1556   \n",
              "\n",
              "                     stalk-surface-below-ring  stalk-color-above-ring  \\\n",
              "cap-shape class                                                         \n",
              "Bell      Edible                          404                     404   \n",
              "          Poisonous                        48                      48   \n",
              "Conical   Poisonous                         4                       4   \n",
              "Convex    Edible                         1948                    1948   \n",
              "          Poisonous                      1708                    1708   \n",
              "Knobbed   Edible                          228                     228   \n",
              "          Poisonous                       600                     600   \n",
              "Sunken    Edible                           32                      32   \n",
              "flat      Edible                         1596                    1596   \n",
              "          Poisonous                      1556                    1556   \n",
              "\n",
              "                     stalk-color-below-ring  veil-type  veil-color  \\\n",
              "cap-shape class                                                      \n",
              "Bell      Edible                        404        404         404   \n",
              "          Poisonous                      48         48          48   \n",
              "Conical   Poisonous                       4          4           4   \n",
              "Convex    Edible                       1948       1948        1948   \n",
              "          Poisonous                    1708       1708        1708   \n",
              "Knobbed   Edible                        228        228         228   \n",
              "          Poisonous                     600        600         600   \n",
              "Sunken    Edible                         32         32          32   \n",
              "flat      Edible                       1596       1596        1596   \n",
              "          Poisonous                    1556       1556        1556   \n",
              "\n",
              "                     ring-number  ring-type  spore-print-color  population  \\\n",
              "cap-shape class                                                              \n",
              "Bell      Edible             404        404                404         404   \n",
              "          Poisonous           48         48                 48          48   \n",
              "Conical   Poisonous            4          4                  4           4   \n",
              "Convex    Edible            1948       1948               1948        1948   \n",
              "          Poisonous         1708       1708               1708        1708   \n",
              "Knobbed   Edible             228        228                228         228   \n",
              "          Poisonous          600        600                600         600   \n",
              "Sunken    Edible              32         32                 32          32   \n",
              "flat      Edible            1596       1596               1596        1596   \n",
              "          Poisonous         1556       1556               1556        1556   \n",
              "\n",
              "                     habitat  \n",
              "cap-shape class               \n",
              "Bell      Edible         404  \n",
              "          Poisonous       48  \n",
              "Conical   Poisonous        4  \n",
              "Convex    Edible        1948  \n",
              "          Poisonous     1708  \n",
              "Knobbed   Edible         228  \n",
              "          Poisonous      600  \n",
              "Sunken    Edible          32  \n",
              "flat      Edible        1596  \n",
              "          Poisonous     1556  "
            ],
            "text/html": [
              "\n",
              "  <div id=\"df-e8ad3cd0-3e5e-4201-9c3e-be0b8c4cc8ac\">\n",
              "    <div class=\"colab-df-container\">\n",
              "      <div>\n",
              "<style scoped>\n",
              "    .dataframe tbody tr th:only-of-type {\n",
              "        vertical-align: middle;\n",
              "    }\n",
              "\n",
              "    .dataframe tbody tr th {\n",
              "        vertical-align: top;\n",
              "    }\n",
              "\n",
              "    .dataframe thead th {\n",
              "        text-align: right;\n",
              "    }\n",
              "</style>\n",
              "<table border=\"1\" class=\"dataframe\">\n",
              "  <thead>\n",
              "    <tr style=\"text-align: right;\">\n",
              "      <th></th>\n",
              "      <th></th>\n",
              "      <th>cap-surface</th>\n",
              "      <th>cap-color</th>\n",
              "      <th>bruises</th>\n",
              "      <th>odor</th>\n",
              "      <th>gill-attachment</th>\n",
              "      <th>gill-spacing</th>\n",
              "      <th>gill-size</th>\n",
              "      <th>gill-color</th>\n",
              "      <th>stalk-shape</th>\n",
              "      <th>stalk-root</th>\n",
              "      <th>stalk-surface-above-ring</th>\n",
              "      <th>stalk-surface-below-ring</th>\n",
              "      <th>stalk-color-above-ring</th>\n",
              "      <th>stalk-color-below-ring</th>\n",
              "      <th>veil-type</th>\n",
              "      <th>veil-color</th>\n",
              "      <th>ring-number</th>\n",
              "      <th>ring-type</th>\n",
              "      <th>spore-print-color</th>\n",
              "      <th>population</th>\n",
              "      <th>habitat</th>\n",
              "    </tr>\n",
              "    <tr>\n",
              "      <th>cap-shape</th>\n",
              "      <th>class</th>\n",
              "      <th></th>\n",
              "      <th></th>\n",
              "      <th></th>\n",
              "      <th></th>\n",
              "      <th></th>\n",
              "      <th></th>\n",
              "      <th></th>\n",
              "      <th></th>\n",
              "      <th></th>\n",
              "      <th></th>\n",
              "      <th></th>\n",
              "      <th></th>\n",
              "      <th></th>\n",
              "      <th></th>\n",
              "      <th></th>\n",
              "      <th></th>\n",
              "      <th></th>\n",
              "      <th></th>\n",
              "      <th></th>\n",
              "      <th></th>\n",
              "      <th></th>\n",
              "    </tr>\n",
              "  </thead>\n",
              "  <tbody>\n",
              "    <tr>\n",
              "      <th rowspan=\"2\" valign=\"top\">Bell</th>\n",
              "      <th>Edible</th>\n",
              "      <td>404</td>\n",
              "      <td>404</td>\n",
              "      <td>404</td>\n",
              "      <td>404</td>\n",
              "      <td>404</td>\n",
              "      <td>404</td>\n",
              "      <td>404</td>\n",
              "      <td>404</td>\n",
              "      <td>404</td>\n",
              "      <td>404</td>\n",
              "      <td>404</td>\n",
              "      <td>404</td>\n",
              "      <td>404</td>\n",
              "      <td>404</td>\n",
              "      <td>404</td>\n",
              "      <td>404</td>\n",
              "      <td>404</td>\n",
              "      <td>404</td>\n",
              "      <td>404</td>\n",
              "      <td>404</td>\n",
              "      <td>404</td>\n",
              "    </tr>\n",
              "    <tr>\n",
              "      <th>Poisonous</th>\n",
              "      <td>48</td>\n",
              "      <td>48</td>\n",
              "      <td>48</td>\n",
              "      <td>48</td>\n",
              "      <td>48</td>\n",
              "      <td>48</td>\n",
              "      <td>48</td>\n",
              "      <td>48</td>\n",
              "      <td>48</td>\n",
              "      <td>48</td>\n",
              "      <td>48</td>\n",
              "      <td>48</td>\n",
              "      <td>48</td>\n",
              "      <td>48</td>\n",
              "      <td>48</td>\n",
              "      <td>48</td>\n",
              "      <td>48</td>\n",
              "      <td>48</td>\n",
              "      <td>48</td>\n",
              "      <td>48</td>\n",
              "      <td>48</td>\n",
              "    </tr>\n",
              "    <tr>\n",
              "      <th>Conical</th>\n",
              "      <th>Poisonous</th>\n",
              "      <td>4</td>\n",
              "      <td>4</td>\n",
              "      <td>4</td>\n",
              "      <td>4</td>\n",
              "      <td>4</td>\n",
              "      <td>4</td>\n",
              "      <td>4</td>\n",
              "      <td>4</td>\n",
              "      <td>4</td>\n",
              "      <td>4</td>\n",
              "      <td>4</td>\n",
              "      <td>4</td>\n",
              "      <td>4</td>\n",
              "      <td>4</td>\n",
              "      <td>4</td>\n",
              "      <td>4</td>\n",
              "      <td>4</td>\n",
              "      <td>4</td>\n",
              "      <td>4</td>\n",
              "      <td>4</td>\n",
              "      <td>4</td>\n",
              "    </tr>\n",
              "    <tr>\n",
              "      <th rowspan=\"2\" valign=\"top\">Convex</th>\n",
              "      <th>Edible</th>\n",
              "      <td>1948</td>\n",
              "      <td>1948</td>\n",
              "      <td>1948</td>\n",
              "      <td>1948</td>\n",
              "      <td>1948</td>\n",
              "      <td>1948</td>\n",
              "      <td>1948</td>\n",
              "      <td>1948</td>\n",
              "      <td>1948</td>\n",
              "      <td>1948</td>\n",
              "      <td>1948</td>\n",
              "      <td>1948</td>\n",
              "      <td>1948</td>\n",
              "      <td>1948</td>\n",
              "      <td>1948</td>\n",
              "      <td>1948</td>\n",
              "      <td>1948</td>\n",
              "      <td>1948</td>\n",
              "      <td>1948</td>\n",
              "      <td>1948</td>\n",
              "      <td>1948</td>\n",
              "    </tr>\n",
              "    <tr>\n",
              "      <th>Poisonous</th>\n",
              "      <td>1708</td>\n",
              "      <td>1708</td>\n",
              "      <td>1708</td>\n",
              "      <td>1708</td>\n",
              "      <td>1708</td>\n",
              "      <td>1708</td>\n",
              "      <td>1708</td>\n",
              "      <td>1708</td>\n",
              "      <td>1708</td>\n",
              "      <td>1708</td>\n",
              "      <td>1708</td>\n",
              "      <td>1708</td>\n",
              "      <td>1708</td>\n",
              "      <td>1708</td>\n",
              "      <td>1708</td>\n",
              "      <td>1708</td>\n",
              "      <td>1708</td>\n",
              "      <td>1708</td>\n",
              "      <td>1708</td>\n",
              "      <td>1708</td>\n",
              "      <td>1708</td>\n",
              "    </tr>\n",
              "    <tr>\n",
              "      <th rowspan=\"2\" valign=\"top\">Knobbed</th>\n",
              "      <th>Edible</th>\n",
              "      <td>228</td>\n",
              "      <td>228</td>\n",
              "      <td>228</td>\n",
              "      <td>228</td>\n",
              "      <td>228</td>\n",
              "      <td>228</td>\n",
              "      <td>228</td>\n",
              "      <td>228</td>\n",
              "      <td>228</td>\n",
              "      <td>228</td>\n",
              "      <td>228</td>\n",
              "      <td>228</td>\n",
              "      <td>228</td>\n",
              "      <td>228</td>\n",
              "      <td>228</td>\n",
              "      <td>228</td>\n",
              "      <td>228</td>\n",
              "      <td>228</td>\n",
              "      <td>228</td>\n",
              "      <td>228</td>\n",
              "      <td>228</td>\n",
              "    </tr>\n",
              "    <tr>\n",
              "      <th>Poisonous</th>\n",
              "      <td>600</td>\n",
              "      <td>600</td>\n",
              "      <td>600</td>\n",
              "      <td>600</td>\n",
              "      <td>600</td>\n",
              "      <td>600</td>\n",
              "      <td>600</td>\n",
              "      <td>600</td>\n",
              "      <td>600</td>\n",
              "      <td>600</td>\n",
              "      <td>600</td>\n",
              "      <td>600</td>\n",
              "      <td>600</td>\n",
              "      <td>600</td>\n",
              "      <td>600</td>\n",
              "      <td>600</td>\n",
              "      <td>600</td>\n",
              "      <td>600</td>\n",
              "      <td>600</td>\n",
              "      <td>600</td>\n",
              "      <td>600</td>\n",
              "    </tr>\n",
              "    <tr>\n",
              "      <th>Sunken</th>\n",
              "      <th>Edible</th>\n",
              "      <td>32</td>\n",
              "      <td>32</td>\n",
              "      <td>32</td>\n",
              "      <td>32</td>\n",
              "      <td>32</td>\n",
              "      <td>32</td>\n",
              "      <td>32</td>\n",
              "      <td>32</td>\n",
              "      <td>32</td>\n",
              "      <td>32</td>\n",
              "      <td>32</td>\n",
              "      <td>32</td>\n",
              "      <td>32</td>\n",
              "      <td>32</td>\n",
              "      <td>32</td>\n",
              "      <td>32</td>\n",
              "      <td>32</td>\n",
              "      <td>32</td>\n",
              "      <td>32</td>\n",
              "      <td>32</td>\n",
              "      <td>32</td>\n",
              "    </tr>\n",
              "    <tr>\n",
              "      <th rowspan=\"2\" valign=\"top\">flat</th>\n",
              "      <th>Edible</th>\n",
              "      <td>1596</td>\n",
              "      <td>1596</td>\n",
              "      <td>1596</td>\n",
              "      <td>1596</td>\n",
              "      <td>1596</td>\n",
              "      <td>1596</td>\n",
              "      <td>1596</td>\n",
              "      <td>1596</td>\n",
              "      <td>1596</td>\n",
              "      <td>1596</td>\n",
              "      <td>1596</td>\n",
              "      <td>1596</td>\n",
              "      <td>1596</td>\n",
              "      <td>1596</td>\n",
              "      <td>1596</td>\n",
              "      <td>1596</td>\n",
              "      <td>1596</td>\n",
              "      <td>1596</td>\n",
              "      <td>1596</td>\n",
              "      <td>1596</td>\n",
              "      <td>1596</td>\n",
              "    </tr>\n",
              "    <tr>\n",
              "      <th>Poisonous</th>\n",
              "      <td>1556</td>\n",
              "      <td>1556</td>\n",
              "      <td>1556</td>\n",
              "      <td>1556</td>\n",
              "      <td>1556</td>\n",
              "      <td>1556</td>\n",
              "      <td>1556</td>\n",
              "      <td>1556</td>\n",
              "      <td>1556</td>\n",
              "      <td>1556</td>\n",
              "      <td>1556</td>\n",
              "      <td>1556</td>\n",
              "      <td>1556</td>\n",
              "      <td>1556</td>\n",
              "      <td>1556</td>\n",
              "      <td>1556</td>\n",
              "      <td>1556</td>\n",
              "      <td>1556</td>\n",
              "      <td>1556</td>\n",
              "      <td>1556</td>\n",
              "      <td>1556</td>\n",
              "    </tr>\n",
              "  </tbody>\n",
              "</table>\n",
              "</div>\n",
              "      <button class=\"colab-df-convert\" onclick=\"convertToInteractive('df-e8ad3cd0-3e5e-4201-9c3e-be0b8c4cc8ac')\"\n",
              "              title=\"Convert this dataframe to an interactive table.\"\n",
              "              style=\"display:none;\">\n",
              "        \n",
              "  <svg xmlns=\"http://www.w3.org/2000/svg\" height=\"24px\"viewBox=\"0 0 24 24\"\n",
              "       width=\"24px\">\n",
              "    <path d=\"M0 0h24v24H0V0z\" fill=\"none\"/>\n",
              "    <path d=\"M18.56 5.44l.94 2.06.94-2.06 2.06-.94-2.06-.94-.94-2.06-.94 2.06-2.06.94zm-11 1L8.5 8.5l.94-2.06 2.06-.94-2.06-.94L8.5 2.5l-.94 2.06-2.06.94zm10 10l.94 2.06.94-2.06 2.06-.94-2.06-.94-.94-2.06-.94 2.06-2.06.94z\"/><path d=\"M17.41 7.96l-1.37-1.37c-.4-.4-.92-.59-1.43-.59-.52 0-1.04.2-1.43.59L10.3 9.45l-7.72 7.72c-.78.78-.78 2.05 0 2.83L4 21.41c.39.39.9.59 1.41.59.51 0 1.02-.2 1.41-.59l7.78-7.78 2.81-2.81c.8-.78.8-2.07 0-2.86zM5.41 20L4 18.59l7.72-7.72 1.47 1.35L5.41 20z\"/>\n",
              "  </svg>\n",
              "      </button>\n",
              "      \n",
              "  <style>\n",
              "    .colab-df-container {\n",
              "      display:flex;\n",
              "      flex-wrap:wrap;\n",
              "      gap: 12px;\n",
              "    }\n",
              "\n",
              "    .colab-df-convert {\n",
              "      background-color: #E8F0FE;\n",
              "      border: none;\n",
              "      border-radius: 50%;\n",
              "      cursor: pointer;\n",
              "      display: none;\n",
              "      fill: #1967D2;\n",
              "      height: 32px;\n",
              "      padding: 0 0 0 0;\n",
              "      width: 32px;\n",
              "    }\n",
              "\n",
              "    .colab-df-convert:hover {\n",
              "      background-color: #E2EBFA;\n",
              "      box-shadow: 0px 1px 2px rgba(60, 64, 67, 0.3), 0px 1px 3px 1px rgba(60, 64, 67, 0.15);\n",
              "      fill: #174EA6;\n",
              "    }\n",
              "\n",
              "    [theme=dark] .colab-df-convert {\n",
              "      background-color: #3B4455;\n",
              "      fill: #D2E3FC;\n",
              "    }\n",
              "\n",
              "    [theme=dark] .colab-df-convert:hover {\n",
              "      background-color: #434B5C;\n",
              "      box-shadow: 0px 1px 3px 1px rgba(0, 0, 0, 0.15);\n",
              "      filter: drop-shadow(0px 1px 2px rgba(0, 0, 0, 0.3));\n",
              "      fill: #FFFFFF;\n",
              "    }\n",
              "  </style>\n",
              "\n",
              "      <script>\n",
              "        const buttonEl =\n",
              "          document.querySelector('#df-e8ad3cd0-3e5e-4201-9c3e-be0b8c4cc8ac button.colab-df-convert');\n",
              "        buttonEl.style.display =\n",
              "          google.colab.kernel.accessAllowed ? 'block' : 'none';\n",
              "\n",
              "        async function convertToInteractive(key) {\n",
              "          const element = document.querySelector('#df-e8ad3cd0-3e5e-4201-9c3e-be0b8c4cc8ac');\n",
              "          const dataTable =\n",
              "            await google.colab.kernel.invokeFunction('convertToInteractive',\n",
              "                                                     [key], {});\n",
              "          if (!dataTable) return;\n",
              "\n",
              "          const docLinkHtml = 'Like what you see? Visit the ' +\n",
              "            '<a target=\"_blank\" href=https://colab.research.google.com/notebooks/data_table.ipynb>data table notebook</a>'\n",
              "            + ' to learn more about interactive tables.';\n",
              "          element.innerHTML = '';\n",
              "          dataTable['output_type'] = 'display_data';\n",
              "          await google.colab.output.renderOutput(dataTable, element);\n",
              "          const docLink = document.createElement('div');\n",
              "          docLink.innerHTML = docLinkHtml;\n",
              "          element.appendChild(docLink);\n",
              "        }\n",
              "      </script>\n",
              "    </div>\n",
              "  </div>\n",
              "  "
            ]
          },
          "metadata": {},
          "execution_count": 339
        }
      ]
    },
    {
      "cell_type": "markdown",
      "source": [
        "#There are no numerical categories in data so there are no outliers"
      ],
      "metadata": {
        "id": "aPlFO4Gv3me-"
      }
    },
    {
      "cell_type": "code",
      "source": [
        "#ml_df['class'] = ml_df['class'].astype(str).astype(int)"
      ],
      "metadata": {
        "id": "njIj4pKCUk_e"
      },
      "execution_count": 340,
      "outputs": []
    },
    {
      "cell_type": "code",
      "source": [
        "## dataframe creation - for plotting\n",
        "# create new pandas dataframe which contains all counts sorted by population\n",
        "population_df = (\n",
        "    ml_df.groupby([\"population\"])\n",
        "    .size()\n",
        "    .reset_index(name=\"Counts\")\n",
        "    .sort_values(by=[\"population\"]))"
      ],
      "metadata": {
        "id": "PvFGsX5_eTDE"
      },
      "execution_count": 341,
      "outputs": []
    },
    {
      "cell_type": "code",
      "source": [
        "from plotly.subplots import make_subplots\n",
        "import plotly.graph_objects as go\n",
        "## Creating a pie chart\n",
        "# create labels using all unique values in the column named \"population\"\n",
        "labels = population_df[\"population\"].unique()\n",
        "# group by count of the \"population\" column.\n",
        "values = population_df[\"Counts\"]\n",
        "# Custom define a list of colors to be used for the pie chart.\n",
        "# Note that the same number of colors are specified as there are unique populations. It is not mandatory, but\n",
        "# will avoid a single color to be used multiple times.\n",
        "earth_colors = [\n",
        "    \"rgb(210,180,140)\",\n",
        "    \"rgb(218,165,32)\",\n",
        "    \"rgb(139,69,19)\",\n",
        "    \"rgb(175, 51, 21)\",\n",
        "    \"rgb(35, 36, 21)\",\n",
        "    \"rgb(188,143,143)\",\n",
        "]\n",
        "# defining the actual figure using the dimension: population\n",
        "# Note that a pull keyword was specified to explode pie pieces out of the center\n",
        "fig = go.Figure(\n",
        "    data=[\n",
        "        go.Pie(\n",
        "            labels=labels,\n",
        "            values=values,\n",
        "            # pull is given as a fraction of the pie radius\n",
        "            pull=[0, 0, 0.07, 0.08, 0.02, 0.2],\n",
        "            # iterate through earth_colors list to color individual pie pieces\n",
        "            marker_colors=earth_colors,\n",
        "        )\n",
        "    ]\n",
        ")\n",
        "# Update layout to show a title\n",
        "fig.update_layout(title_text=\"Mushroom Polulation\")\n",
        "# display the figure\n",
        "fig.show()"
      ],
      "metadata": {
        "colab": {
          "base_uri": "https://localhost:8080/",
          "height": 542
        },
        "id": "bY5AQjt3BnuT",
        "outputId": "4b131dea-8891-49d7-f6a3-99063f308c67"
      },
      "execution_count": 342,
      "outputs": [
        {
          "output_type": "display_data",
          "data": {
            "text/html": [
              "<html>\n",
              "<head><meta charset=\"utf-8\" /></head>\n",
              "<body>\n",
              "    <div>            <script src=\"https://cdnjs.cloudflare.com/ajax/libs/mathjax/2.7.5/MathJax.js?config=TeX-AMS-MML_SVG\"></script><script type=\"text/javascript\">if (window.MathJax) {MathJax.Hub.Config({SVG: {font: \"STIX-Web\"}});}</script>                <script type=\"text/javascript\">window.PlotlyConfig = {MathJaxConfig: 'local'};</script>\n",
              "        <script src=\"https://cdn.plot.ly/plotly-2.8.3.min.js\"></script>                <div id=\"1f2d1f81-0857-4730-a394-6873c0719a18\" class=\"plotly-graph-div\" style=\"height:525px; width:100%;\"></div>            <script type=\"text/javascript\">                                    window.PLOTLYENV=window.PLOTLYENV || {};                                    if (document.getElementById(\"1f2d1f81-0857-4730-a394-6873c0719a18\")) {                    Plotly.newPlot(                        \"1f2d1f81-0857-4730-a394-6873c0719a18\",                        [{\"labels\":[\"Abundant\",\"Clustered\",\"Numerous\",\"Scattered\",\"Several\",\"Solitary\"],\"marker\":{\"colors\":[\"rgb(210,180,140)\",\"rgb(218,165,32)\",\"rgb(139,69,19)\",\"rgb(175, 51, 21)\",\"rgb(35, 36, 21)\",\"rgb(188,143,143)\"]},\"pull\":[0,0,0.07,0.08,0.02,0.2],\"values\":[384,340,400,1248,4040,1712],\"type\":\"pie\"}],                        {\"template\":{\"data\":{\"bar\":[{\"error_x\":{\"color\":\"#2a3f5f\"},\"error_y\":{\"color\":\"#2a3f5f\"},\"marker\":{\"line\":{\"color\":\"#E5ECF6\",\"width\":0.5},\"pattern\":{\"fillmode\":\"overlay\",\"size\":10,\"solidity\":0.2}},\"type\":\"bar\"}],\"barpolar\":[{\"marker\":{\"line\":{\"color\":\"#E5ECF6\",\"width\":0.5},\"pattern\":{\"fillmode\":\"overlay\",\"size\":10,\"solidity\":0.2}},\"type\":\"barpolar\"}],\"carpet\":[{\"aaxis\":{\"endlinecolor\":\"#2a3f5f\",\"gridcolor\":\"white\",\"linecolor\":\"white\",\"minorgridcolor\":\"white\",\"startlinecolor\":\"#2a3f5f\"},\"baxis\":{\"endlinecolor\":\"#2a3f5f\",\"gridcolor\":\"white\",\"linecolor\":\"white\",\"minorgridcolor\":\"white\",\"startlinecolor\":\"#2a3f5f\"},\"type\":\"carpet\"}],\"choropleth\":[{\"colorbar\":{\"outlinewidth\":0,\"ticks\":\"\"},\"type\":\"choropleth\"}],\"contour\":[{\"colorbar\":{\"outlinewidth\":0,\"ticks\":\"\"},\"colorscale\":[[0.0,\"#0d0887\"],[0.1111111111111111,\"#46039f\"],[0.2222222222222222,\"#7201a8\"],[0.3333333333333333,\"#9c179e\"],[0.4444444444444444,\"#bd3786\"],[0.5555555555555556,\"#d8576b\"],[0.6666666666666666,\"#ed7953\"],[0.7777777777777778,\"#fb9f3a\"],[0.8888888888888888,\"#fdca26\"],[1.0,\"#f0f921\"]],\"type\":\"contour\"}],\"contourcarpet\":[{\"colorbar\":{\"outlinewidth\":0,\"ticks\":\"\"},\"type\":\"contourcarpet\"}],\"heatmap\":[{\"colorbar\":{\"outlinewidth\":0,\"ticks\":\"\"},\"colorscale\":[[0.0,\"#0d0887\"],[0.1111111111111111,\"#46039f\"],[0.2222222222222222,\"#7201a8\"],[0.3333333333333333,\"#9c179e\"],[0.4444444444444444,\"#bd3786\"],[0.5555555555555556,\"#d8576b\"],[0.6666666666666666,\"#ed7953\"],[0.7777777777777778,\"#fb9f3a\"],[0.8888888888888888,\"#fdca26\"],[1.0,\"#f0f921\"]],\"type\":\"heatmap\"}],\"heatmapgl\":[{\"colorbar\":{\"outlinewidth\":0,\"ticks\":\"\"},\"colorscale\":[[0.0,\"#0d0887\"],[0.1111111111111111,\"#46039f\"],[0.2222222222222222,\"#7201a8\"],[0.3333333333333333,\"#9c179e\"],[0.4444444444444444,\"#bd3786\"],[0.5555555555555556,\"#d8576b\"],[0.6666666666666666,\"#ed7953\"],[0.7777777777777778,\"#fb9f3a\"],[0.8888888888888888,\"#fdca26\"],[1.0,\"#f0f921\"]],\"type\":\"heatmapgl\"}],\"histogram\":[{\"marker\":{\"pattern\":{\"fillmode\":\"overlay\",\"size\":10,\"solidity\":0.2}},\"type\":\"histogram\"}],\"histogram2d\":[{\"colorbar\":{\"outlinewidth\":0,\"ticks\":\"\"},\"colorscale\":[[0.0,\"#0d0887\"],[0.1111111111111111,\"#46039f\"],[0.2222222222222222,\"#7201a8\"],[0.3333333333333333,\"#9c179e\"],[0.4444444444444444,\"#bd3786\"],[0.5555555555555556,\"#d8576b\"],[0.6666666666666666,\"#ed7953\"],[0.7777777777777778,\"#fb9f3a\"],[0.8888888888888888,\"#fdca26\"],[1.0,\"#f0f921\"]],\"type\":\"histogram2d\"}],\"histogram2dcontour\":[{\"colorbar\":{\"outlinewidth\":0,\"ticks\":\"\"},\"colorscale\":[[0.0,\"#0d0887\"],[0.1111111111111111,\"#46039f\"],[0.2222222222222222,\"#7201a8\"],[0.3333333333333333,\"#9c179e\"],[0.4444444444444444,\"#bd3786\"],[0.5555555555555556,\"#d8576b\"],[0.6666666666666666,\"#ed7953\"],[0.7777777777777778,\"#fb9f3a\"],[0.8888888888888888,\"#fdca26\"],[1.0,\"#f0f921\"]],\"type\":\"histogram2dcontour\"}],\"mesh3d\":[{\"colorbar\":{\"outlinewidth\":0,\"ticks\":\"\"},\"type\":\"mesh3d\"}],\"parcoords\":[{\"line\":{\"colorbar\":{\"outlinewidth\":0,\"ticks\":\"\"}},\"type\":\"parcoords\"}],\"pie\":[{\"automargin\":true,\"type\":\"pie\"}],\"scatter\":[{\"marker\":{\"colorbar\":{\"outlinewidth\":0,\"ticks\":\"\"}},\"type\":\"scatter\"}],\"scatter3d\":[{\"line\":{\"colorbar\":{\"outlinewidth\":0,\"ticks\":\"\"}},\"marker\":{\"colorbar\":{\"outlinewidth\":0,\"ticks\":\"\"}},\"type\":\"scatter3d\"}],\"scattercarpet\":[{\"marker\":{\"colorbar\":{\"outlinewidth\":0,\"ticks\":\"\"}},\"type\":\"scattercarpet\"}],\"scattergeo\":[{\"marker\":{\"colorbar\":{\"outlinewidth\":0,\"ticks\":\"\"}},\"type\":\"scattergeo\"}],\"scattergl\":[{\"marker\":{\"colorbar\":{\"outlinewidth\":0,\"ticks\":\"\"}},\"type\":\"scattergl\"}],\"scattermapbox\":[{\"marker\":{\"colorbar\":{\"outlinewidth\":0,\"ticks\":\"\"}},\"type\":\"scattermapbox\"}],\"scatterpolar\":[{\"marker\":{\"colorbar\":{\"outlinewidth\":0,\"ticks\":\"\"}},\"type\":\"scatterpolar\"}],\"scatterpolargl\":[{\"marker\":{\"colorbar\":{\"outlinewidth\":0,\"ticks\":\"\"}},\"type\":\"scatterpolargl\"}],\"scatterternary\":[{\"marker\":{\"colorbar\":{\"outlinewidth\":0,\"ticks\":\"\"}},\"type\":\"scatterternary\"}],\"surface\":[{\"colorbar\":{\"outlinewidth\":0,\"ticks\":\"\"},\"colorscale\":[[0.0,\"#0d0887\"],[0.1111111111111111,\"#46039f\"],[0.2222222222222222,\"#7201a8\"],[0.3333333333333333,\"#9c179e\"],[0.4444444444444444,\"#bd3786\"],[0.5555555555555556,\"#d8576b\"],[0.6666666666666666,\"#ed7953\"],[0.7777777777777778,\"#fb9f3a\"],[0.8888888888888888,\"#fdca26\"],[1.0,\"#f0f921\"]],\"type\":\"surface\"}],\"table\":[{\"cells\":{\"fill\":{\"color\":\"#EBF0F8\"},\"line\":{\"color\":\"white\"}},\"header\":{\"fill\":{\"color\":\"#C8D4E3\"},\"line\":{\"color\":\"white\"}},\"type\":\"table\"}]},\"layout\":{\"annotationdefaults\":{\"arrowcolor\":\"#2a3f5f\",\"arrowhead\":0,\"arrowwidth\":1},\"autotypenumbers\":\"strict\",\"coloraxis\":{\"colorbar\":{\"outlinewidth\":0,\"ticks\":\"\"}},\"colorscale\":{\"diverging\":[[0,\"#8e0152\"],[0.1,\"#c51b7d\"],[0.2,\"#de77ae\"],[0.3,\"#f1b6da\"],[0.4,\"#fde0ef\"],[0.5,\"#f7f7f7\"],[0.6,\"#e6f5d0\"],[0.7,\"#b8e186\"],[0.8,\"#7fbc41\"],[0.9,\"#4d9221\"],[1,\"#276419\"]],\"sequential\":[[0.0,\"#0d0887\"],[0.1111111111111111,\"#46039f\"],[0.2222222222222222,\"#7201a8\"],[0.3333333333333333,\"#9c179e\"],[0.4444444444444444,\"#bd3786\"],[0.5555555555555556,\"#d8576b\"],[0.6666666666666666,\"#ed7953\"],[0.7777777777777778,\"#fb9f3a\"],[0.8888888888888888,\"#fdca26\"],[1.0,\"#f0f921\"]],\"sequentialminus\":[[0.0,\"#0d0887\"],[0.1111111111111111,\"#46039f\"],[0.2222222222222222,\"#7201a8\"],[0.3333333333333333,\"#9c179e\"],[0.4444444444444444,\"#bd3786\"],[0.5555555555555556,\"#d8576b\"],[0.6666666666666666,\"#ed7953\"],[0.7777777777777778,\"#fb9f3a\"],[0.8888888888888888,\"#fdca26\"],[1.0,\"#f0f921\"]]},\"colorway\":[\"#636efa\",\"#EF553B\",\"#00cc96\",\"#ab63fa\",\"#FFA15A\",\"#19d3f3\",\"#FF6692\",\"#B6E880\",\"#FF97FF\",\"#FECB52\"],\"font\":{\"color\":\"#2a3f5f\"},\"geo\":{\"bgcolor\":\"white\",\"lakecolor\":\"white\",\"landcolor\":\"#E5ECF6\",\"showlakes\":true,\"showland\":true,\"subunitcolor\":\"white\"},\"hoverlabel\":{\"align\":\"left\"},\"hovermode\":\"closest\",\"mapbox\":{\"style\":\"light\"},\"paper_bgcolor\":\"white\",\"plot_bgcolor\":\"#E5ECF6\",\"polar\":{\"angularaxis\":{\"gridcolor\":\"white\",\"linecolor\":\"white\",\"ticks\":\"\"},\"bgcolor\":\"#E5ECF6\",\"radialaxis\":{\"gridcolor\":\"white\",\"linecolor\":\"white\",\"ticks\":\"\"}},\"scene\":{\"xaxis\":{\"backgroundcolor\":\"#E5ECF6\",\"gridcolor\":\"white\",\"gridwidth\":2,\"linecolor\":\"white\",\"showbackground\":true,\"ticks\":\"\",\"zerolinecolor\":\"white\"},\"yaxis\":{\"backgroundcolor\":\"#E5ECF6\",\"gridcolor\":\"white\",\"gridwidth\":2,\"linecolor\":\"white\",\"showbackground\":true,\"ticks\":\"\",\"zerolinecolor\":\"white\"},\"zaxis\":{\"backgroundcolor\":\"#E5ECF6\",\"gridcolor\":\"white\",\"gridwidth\":2,\"linecolor\":\"white\",\"showbackground\":true,\"ticks\":\"\",\"zerolinecolor\":\"white\"}},\"shapedefaults\":{\"line\":{\"color\":\"#2a3f5f\"}},\"ternary\":{\"aaxis\":{\"gridcolor\":\"white\",\"linecolor\":\"white\",\"ticks\":\"\"},\"baxis\":{\"gridcolor\":\"white\",\"linecolor\":\"white\",\"ticks\":\"\"},\"bgcolor\":\"#E5ECF6\",\"caxis\":{\"gridcolor\":\"white\",\"linecolor\":\"white\",\"ticks\":\"\"}},\"title\":{\"x\":0.05},\"xaxis\":{\"automargin\":true,\"gridcolor\":\"white\",\"linecolor\":\"white\",\"ticks\":\"\",\"title\":{\"standoff\":15},\"zerolinecolor\":\"white\",\"zerolinewidth\":2},\"yaxis\":{\"automargin\":true,\"gridcolor\":\"white\",\"linecolor\":\"white\",\"ticks\":\"\",\"title\":{\"standoff\":15},\"zerolinecolor\":\"white\",\"zerolinewidth\":2}}},\"title\":{\"text\":\"Mushroom Polulation\"}},                        {\"responsive\": true}                    ).then(function(){\n",
              "                            \n",
              "var gd = document.getElementById('1f2d1f81-0857-4730-a394-6873c0719a18');\n",
              "var x = new MutationObserver(function (mutations, observer) {{\n",
              "        var display = window.getComputedStyle(gd).display;\n",
              "        if (!display || display === 'none') {{\n",
              "            console.log([gd, 'removed!']);\n",
              "            Plotly.purge(gd);\n",
              "            observer.disconnect();\n",
              "        }}\n",
              "}});\n",
              "\n",
              "// Listen for the removal of the full notebook cells\n",
              "var notebookContainer = gd.closest('#notebook-container');\n",
              "if (notebookContainer) {{\n",
              "    x.observe(notebookContainer, {childList: true});\n",
              "}}\n",
              "\n",
              "// Listen for the clearing of the current output cell\n",
              "var outputEl = gd.closest('.output');\n",
              "if (outputEl) {{\n",
              "    x.observe(outputEl, {childList: true});\n",
              "}}\n",
              "\n",
              "                        })                };                            </script>        </div>\n",
              "</body>\n",
              "</html>"
            ]
          },
          "metadata": {}
        }
      ]
    },
    {
      "cell_type": "code",
      "source": [
        "## dataframe creation - for plotting\n",
        "# create new pandas dataframe which contains all counts filtered by 'is-edible' == \"edible\" and sorted by population\n",
        "edible_population_df = (\n",
        "    ml_df.loc[ml_df['class'] == \"Edible\"]\n",
        "    .groupby([\"population\"])\n",
        "    .size()\n",
        "    .reset_index(name=\"Counts\")\n",
        "    .sort_values(by=[\"population\"])\n",
        ")\n",
        "# create new pandas dataframe which contains all counts filtered by 'is-edible' == \"poisonous\" and sorted by population\n",
        "poisonous_population_df = (\n",
        "    ml_df.loc[ml_df['class'] == \"Poisonous\"]\n",
        "    .groupby([\"population\"])\n",
        "    .size()\n",
        "    .reset_index(name=\"Counts\")\n",
        "    .sort_values(by=[\"population\"])\n",
        ")\n",
        "# get unique values from the just created pandas dataframes and store them in an array\n",
        "labels_edible_population = edible_population_df[\"population\"].unique()\n",
        "labels_poisonous_population = poisonous_population_df[\"population\"].unique()\n",
        "# get all the counts from the created pandas dataframes and store them in an array\n",
        "values_edible_population = edible_population_df[\"Counts\"]\n",
        "values_poisonous_population = poisonous_population_df[\"Counts\"]"
      ],
      "metadata": {
        "id": "rqzQ5cY5B97d"
      },
      "execution_count": 343,
      "outputs": []
    },
    {
      "cell_type": "code",
      "source": [
        "## Creating two pie charts\n",
        "# Create subplots: use 'domain' type for Pie subplot\n",
        "\n",
        "fig = make_subplots(rows=1, cols=2, specs=[[{\"type\": \"domain\"}, {\"type\": \"domain\"}]])\n",
        "# create an array of colors which will be custom colors to the plot\n",
        "earth_colors = [\n",
        "    \"rgb(210,180,120)\",\n",
        "    \"rgb(218,165,32)\",\n",
        "    \"rgb(139,69,19)\",\n",
        "    \"rgb(175, 51, 21)\",\n",
        "    \"rgb(35, 36, 21)\",\n",
        "    \"rgb(188,143,143)\",]\n",
        "# crate traces to specify the various properties of the first pie chart subplot\n",
        "fig.add_trace(\n",
        "    go.Pie(\n",
        "        labels=labels_edible_population,\n",
        "        values=values_edible_population,\n",
        "        name=\"Edible Mushroom\",\n",
        "        marker_colors=earth_colors,),1,1,)\n",
        "# crate traces to specify the various properties of the second pie chart subplot\n",
        "fig.add_trace(\n",
        "    go.Pie(\n",
        "        labels=labels_poisonous_population,\n",
        "        values=values_poisonous_population,\n",
        "        name=\"Poisonous Mushroom\",\n",
        "        marker_colors=earth_colors,),1,2,)\n",
        "# Use `hole` to create a donut-like pie chart\n",
        "fig.update_traces(hole=0.4, hoverinfo=\"label+percent+name\")\n",
        "# adapt layout of the chart for readability\n",
        "fig.update_layout(\n",
        "    title_text=\"Mushroom Population by Edibility\",\n",
        "    # Add annotations in the center of the donut pies.\n",
        "    annotations=[\n",
        "        dict(text=\"Edible\", x=0.18, y=0.5, font_size=17, showarrow=False),\n",
        "        dict(text=\"Poisonous\", x=0.82, y=0.5, font_size=17, showarrow=False),\n",
        "    ],\n",
        ")\n",
        "fig.show()"
      ],
      "metadata": {
        "colab": {
          "base_uri": "https://localhost:8080/",
          "height": 542
        },
        "id": "Pjwnjob0CR3v",
        "outputId": "266ba338-6131-41fe-de31-40753053f25b"
      },
      "execution_count": 344,
      "outputs": [
        {
          "output_type": "display_data",
          "data": {
            "text/html": [
              "<html>\n",
              "<head><meta charset=\"utf-8\" /></head>\n",
              "<body>\n",
              "    <div>            <script src=\"https://cdnjs.cloudflare.com/ajax/libs/mathjax/2.7.5/MathJax.js?config=TeX-AMS-MML_SVG\"></script><script type=\"text/javascript\">if (window.MathJax) {MathJax.Hub.Config({SVG: {font: \"STIX-Web\"}});}</script>                <script type=\"text/javascript\">window.PlotlyConfig = {MathJaxConfig: 'local'};</script>\n",
              "        <script src=\"https://cdn.plot.ly/plotly-2.8.3.min.js\"></script>                <div id=\"c9cf5943-4c13-4382-b9e3-62c62cb5118c\" class=\"plotly-graph-div\" style=\"height:525px; width:100%;\"></div>            <script type=\"text/javascript\">                                    window.PLOTLYENV=window.PLOTLYENV || {};                                    if (document.getElementById(\"c9cf5943-4c13-4382-b9e3-62c62cb5118c\")) {                    Plotly.newPlot(                        \"c9cf5943-4c13-4382-b9e3-62c62cb5118c\",                        [{\"labels\":[\"Abundant\",\"Clustered\",\"Numerous\",\"Scattered\",\"Several\",\"Solitary\"],\"marker\":{\"colors\":[\"rgb(210,180,120)\",\"rgb(218,165,32)\",\"rgb(139,69,19)\",\"rgb(175, 51, 21)\",\"rgb(35, 36, 21)\",\"rgb(188,143,143)\"]},\"name\":\"Edible Mushroom\",\"values\":[384,288,400,880,1192,1064],\"type\":\"pie\",\"domain\":{\"x\":[0.0,0.45],\"y\":[0.0,1.0]},\"hole\":0.4,\"hoverinfo\":\"label+percent+name\"},{\"labels\":[\"Clustered\",\"Scattered\",\"Several\",\"Solitary\"],\"marker\":{\"colors\":[\"rgb(210,180,120)\",\"rgb(218,165,32)\",\"rgb(139,69,19)\",\"rgb(175, 51, 21)\",\"rgb(35, 36, 21)\",\"rgb(188,143,143)\"]},\"name\":\"Poisonous Mushroom\",\"values\":[52,368,2848,648],\"type\":\"pie\",\"domain\":{\"x\":[0.55,1.0],\"y\":[0.0,1.0]},\"hole\":0.4,\"hoverinfo\":\"label+percent+name\"}],                        {\"template\":{\"data\":{\"bar\":[{\"error_x\":{\"color\":\"#2a3f5f\"},\"error_y\":{\"color\":\"#2a3f5f\"},\"marker\":{\"line\":{\"color\":\"#E5ECF6\",\"width\":0.5},\"pattern\":{\"fillmode\":\"overlay\",\"size\":10,\"solidity\":0.2}},\"type\":\"bar\"}],\"barpolar\":[{\"marker\":{\"line\":{\"color\":\"#E5ECF6\",\"width\":0.5},\"pattern\":{\"fillmode\":\"overlay\",\"size\":10,\"solidity\":0.2}},\"type\":\"barpolar\"}],\"carpet\":[{\"aaxis\":{\"endlinecolor\":\"#2a3f5f\",\"gridcolor\":\"white\",\"linecolor\":\"white\",\"minorgridcolor\":\"white\",\"startlinecolor\":\"#2a3f5f\"},\"baxis\":{\"endlinecolor\":\"#2a3f5f\",\"gridcolor\":\"white\",\"linecolor\":\"white\",\"minorgridcolor\":\"white\",\"startlinecolor\":\"#2a3f5f\"},\"type\":\"carpet\"}],\"choropleth\":[{\"colorbar\":{\"outlinewidth\":0,\"ticks\":\"\"},\"type\":\"choropleth\"}],\"contour\":[{\"colorbar\":{\"outlinewidth\":0,\"ticks\":\"\"},\"colorscale\":[[0.0,\"#0d0887\"],[0.1111111111111111,\"#46039f\"],[0.2222222222222222,\"#7201a8\"],[0.3333333333333333,\"#9c179e\"],[0.4444444444444444,\"#bd3786\"],[0.5555555555555556,\"#d8576b\"],[0.6666666666666666,\"#ed7953\"],[0.7777777777777778,\"#fb9f3a\"],[0.8888888888888888,\"#fdca26\"],[1.0,\"#f0f921\"]],\"type\":\"contour\"}],\"contourcarpet\":[{\"colorbar\":{\"outlinewidth\":0,\"ticks\":\"\"},\"type\":\"contourcarpet\"}],\"heatmap\":[{\"colorbar\":{\"outlinewidth\":0,\"ticks\":\"\"},\"colorscale\":[[0.0,\"#0d0887\"],[0.1111111111111111,\"#46039f\"],[0.2222222222222222,\"#7201a8\"],[0.3333333333333333,\"#9c179e\"],[0.4444444444444444,\"#bd3786\"],[0.5555555555555556,\"#d8576b\"],[0.6666666666666666,\"#ed7953\"],[0.7777777777777778,\"#fb9f3a\"],[0.8888888888888888,\"#fdca26\"],[1.0,\"#f0f921\"]],\"type\":\"heatmap\"}],\"heatmapgl\":[{\"colorbar\":{\"outlinewidth\":0,\"ticks\":\"\"},\"colorscale\":[[0.0,\"#0d0887\"],[0.1111111111111111,\"#46039f\"],[0.2222222222222222,\"#7201a8\"],[0.3333333333333333,\"#9c179e\"],[0.4444444444444444,\"#bd3786\"],[0.5555555555555556,\"#d8576b\"],[0.6666666666666666,\"#ed7953\"],[0.7777777777777778,\"#fb9f3a\"],[0.8888888888888888,\"#fdca26\"],[1.0,\"#f0f921\"]],\"type\":\"heatmapgl\"}],\"histogram\":[{\"marker\":{\"pattern\":{\"fillmode\":\"overlay\",\"size\":10,\"solidity\":0.2}},\"type\":\"histogram\"}],\"histogram2d\":[{\"colorbar\":{\"outlinewidth\":0,\"ticks\":\"\"},\"colorscale\":[[0.0,\"#0d0887\"],[0.1111111111111111,\"#46039f\"],[0.2222222222222222,\"#7201a8\"],[0.3333333333333333,\"#9c179e\"],[0.4444444444444444,\"#bd3786\"],[0.5555555555555556,\"#d8576b\"],[0.6666666666666666,\"#ed7953\"],[0.7777777777777778,\"#fb9f3a\"],[0.8888888888888888,\"#fdca26\"],[1.0,\"#f0f921\"]],\"type\":\"histogram2d\"}],\"histogram2dcontour\":[{\"colorbar\":{\"outlinewidth\":0,\"ticks\":\"\"},\"colorscale\":[[0.0,\"#0d0887\"],[0.1111111111111111,\"#46039f\"],[0.2222222222222222,\"#7201a8\"],[0.3333333333333333,\"#9c179e\"],[0.4444444444444444,\"#bd3786\"],[0.5555555555555556,\"#d8576b\"],[0.6666666666666666,\"#ed7953\"],[0.7777777777777778,\"#fb9f3a\"],[0.8888888888888888,\"#fdca26\"],[1.0,\"#f0f921\"]],\"type\":\"histogram2dcontour\"}],\"mesh3d\":[{\"colorbar\":{\"outlinewidth\":0,\"ticks\":\"\"},\"type\":\"mesh3d\"}],\"parcoords\":[{\"line\":{\"colorbar\":{\"outlinewidth\":0,\"ticks\":\"\"}},\"type\":\"parcoords\"}],\"pie\":[{\"automargin\":true,\"type\":\"pie\"}],\"scatter\":[{\"marker\":{\"colorbar\":{\"outlinewidth\":0,\"ticks\":\"\"}},\"type\":\"scatter\"}],\"scatter3d\":[{\"line\":{\"colorbar\":{\"outlinewidth\":0,\"ticks\":\"\"}},\"marker\":{\"colorbar\":{\"outlinewidth\":0,\"ticks\":\"\"}},\"type\":\"scatter3d\"}],\"scattercarpet\":[{\"marker\":{\"colorbar\":{\"outlinewidth\":0,\"ticks\":\"\"}},\"type\":\"scattercarpet\"}],\"scattergeo\":[{\"marker\":{\"colorbar\":{\"outlinewidth\":0,\"ticks\":\"\"}},\"type\":\"scattergeo\"}],\"scattergl\":[{\"marker\":{\"colorbar\":{\"outlinewidth\":0,\"ticks\":\"\"}},\"type\":\"scattergl\"}],\"scattermapbox\":[{\"marker\":{\"colorbar\":{\"outlinewidth\":0,\"ticks\":\"\"}},\"type\":\"scattermapbox\"}],\"scatterpolar\":[{\"marker\":{\"colorbar\":{\"outlinewidth\":0,\"ticks\":\"\"}},\"type\":\"scatterpolar\"}],\"scatterpolargl\":[{\"marker\":{\"colorbar\":{\"outlinewidth\":0,\"ticks\":\"\"}},\"type\":\"scatterpolargl\"}],\"scatterternary\":[{\"marker\":{\"colorbar\":{\"outlinewidth\":0,\"ticks\":\"\"}},\"type\":\"scatterternary\"}],\"surface\":[{\"colorbar\":{\"outlinewidth\":0,\"ticks\":\"\"},\"colorscale\":[[0.0,\"#0d0887\"],[0.1111111111111111,\"#46039f\"],[0.2222222222222222,\"#7201a8\"],[0.3333333333333333,\"#9c179e\"],[0.4444444444444444,\"#bd3786\"],[0.5555555555555556,\"#d8576b\"],[0.6666666666666666,\"#ed7953\"],[0.7777777777777778,\"#fb9f3a\"],[0.8888888888888888,\"#fdca26\"],[1.0,\"#f0f921\"]],\"type\":\"surface\"}],\"table\":[{\"cells\":{\"fill\":{\"color\":\"#EBF0F8\"},\"line\":{\"color\":\"white\"}},\"header\":{\"fill\":{\"color\":\"#C8D4E3\"},\"line\":{\"color\":\"white\"}},\"type\":\"table\"}]},\"layout\":{\"annotationdefaults\":{\"arrowcolor\":\"#2a3f5f\",\"arrowhead\":0,\"arrowwidth\":1},\"autotypenumbers\":\"strict\",\"coloraxis\":{\"colorbar\":{\"outlinewidth\":0,\"ticks\":\"\"}},\"colorscale\":{\"diverging\":[[0,\"#8e0152\"],[0.1,\"#c51b7d\"],[0.2,\"#de77ae\"],[0.3,\"#f1b6da\"],[0.4,\"#fde0ef\"],[0.5,\"#f7f7f7\"],[0.6,\"#e6f5d0\"],[0.7,\"#b8e186\"],[0.8,\"#7fbc41\"],[0.9,\"#4d9221\"],[1,\"#276419\"]],\"sequential\":[[0.0,\"#0d0887\"],[0.1111111111111111,\"#46039f\"],[0.2222222222222222,\"#7201a8\"],[0.3333333333333333,\"#9c179e\"],[0.4444444444444444,\"#bd3786\"],[0.5555555555555556,\"#d8576b\"],[0.6666666666666666,\"#ed7953\"],[0.7777777777777778,\"#fb9f3a\"],[0.8888888888888888,\"#fdca26\"],[1.0,\"#f0f921\"]],\"sequentialminus\":[[0.0,\"#0d0887\"],[0.1111111111111111,\"#46039f\"],[0.2222222222222222,\"#7201a8\"],[0.3333333333333333,\"#9c179e\"],[0.4444444444444444,\"#bd3786\"],[0.5555555555555556,\"#d8576b\"],[0.6666666666666666,\"#ed7953\"],[0.7777777777777778,\"#fb9f3a\"],[0.8888888888888888,\"#fdca26\"],[1.0,\"#f0f921\"]]},\"colorway\":[\"#636efa\",\"#EF553B\",\"#00cc96\",\"#ab63fa\",\"#FFA15A\",\"#19d3f3\",\"#FF6692\",\"#B6E880\",\"#FF97FF\",\"#FECB52\"],\"font\":{\"color\":\"#2a3f5f\"},\"geo\":{\"bgcolor\":\"white\",\"lakecolor\":\"white\",\"landcolor\":\"#E5ECF6\",\"showlakes\":true,\"showland\":true,\"subunitcolor\":\"white\"},\"hoverlabel\":{\"align\":\"left\"},\"hovermode\":\"closest\",\"mapbox\":{\"style\":\"light\"},\"paper_bgcolor\":\"white\",\"plot_bgcolor\":\"#E5ECF6\",\"polar\":{\"angularaxis\":{\"gridcolor\":\"white\",\"linecolor\":\"white\",\"ticks\":\"\"},\"bgcolor\":\"#E5ECF6\",\"radialaxis\":{\"gridcolor\":\"white\",\"linecolor\":\"white\",\"ticks\":\"\"}},\"scene\":{\"xaxis\":{\"backgroundcolor\":\"#E5ECF6\",\"gridcolor\":\"white\",\"gridwidth\":2,\"linecolor\":\"white\",\"showbackground\":true,\"ticks\":\"\",\"zerolinecolor\":\"white\"},\"yaxis\":{\"backgroundcolor\":\"#E5ECF6\",\"gridcolor\":\"white\",\"gridwidth\":2,\"linecolor\":\"white\",\"showbackground\":true,\"ticks\":\"\",\"zerolinecolor\":\"white\"},\"zaxis\":{\"backgroundcolor\":\"#E5ECF6\",\"gridcolor\":\"white\",\"gridwidth\":2,\"linecolor\":\"white\",\"showbackground\":true,\"ticks\":\"\",\"zerolinecolor\":\"white\"}},\"shapedefaults\":{\"line\":{\"color\":\"#2a3f5f\"}},\"ternary\":{\"aaxis\":{\"gridcolor\":\"white\",\"linecolor\":\"white\",\"ticks\":\"\"},\"baxis\":{\"gridcolor\":\"white\",\"linecolor\":\"white\",\"ticks\":\"\"},\"bgcolor\":\"#E5ECF6\",\"caxis\":{\"gridcolor\":\"white\",\"linecolor\":\"white\",\"ticks\":\"\"}},\"title\":{\"x\":0.05},\"xaxis\":{\"automargin\":true,\"gridcolor\":\"white\",\"linecolor\":\"white\",\"ticks\":\"\",\"title\":{\"standoff\":15},\"zerolinecolor\":\"white\",\"zerolinewidth\":2},\"yaxis\":{\"automargin\":true,\"gridcolor\":\"white\",\"linecolor\":\"white\",\"ticks\":\"\",\"title\":{\"standoff\":15},\"zerolinecolor\":\"white\",\"zerolinewidth\":2}}},\"title\":{\"text\":\"Mushroom Population by Edibility\"},\"annotations\":[{\"showarrow\":false,\"text\":\"Edible\",\"x\":0.18,\"y\":0.5,\"font\":{\"size\":17}},{\"showarrow\":false,\"text\":\"Poisonous\",\"x\":0.82,\"y\":0.5,\"font\":{\"size\":17}}]},                        {\"responsive\": true}                    ).then(function(){\n",
              "                            \n",
              "var gd = document.getElementById('c9cf5943-4c13-4382-b9e3-62c62cb5118c');\n",
              "var x = new MutationObserver(function (mutations, observer) {{\n",
              "        var display = window.getComputedStyle(gd).display;\n",
              "        if (!display || display === 'none') {{\n",
              "            console.log([gd, 'removed!']);\n",
              "            Plotly.purge(gd);\n",
              "            observer.disconnect();\n",
              "        }}\n",
              "}});\n",
              "\n",
              "// Listen for the removal of the full notebook cells\n",
              "var notebookContainer = gd.closest('#notebook-container');\n",
              "if (notebookContainer) {{\n",
              "    x.observe(notebookContainer, {childList: true});\n",
              "}}\n",
              "\n",
              "// Listen for the clearing of the current output cell\n",
              "var outputEl = gd.closest('.output');\n",
              "if (outputEl) {{\n",
              "    x.observe(outputEl, {childList: true});\n",
              "}}\n",
              "\n",
              "                        })                };                            </script>        </div>\n",
              "</body>\n",
              "</html>"
            ]
          },
          "metadata": {}
        }
      ]
    },
    {
      "cell_type": "markdown",
      "source": [
        "These pie charts show the populations of mushrooms based on wether they are edible or poisonous. The population that are edible are pretty close but you'll notice that there are numerous populations that are poisonous on the right."
      ],
      "metadata": {
        "id": "OB4PTTb5LrMU"
      }
    },
    {
      "cell_type": "code",
      "source": [
        "ml_df['odor'].replace({'a':'Almond', 'l':'Anise', 'c':'Creosote', 'y':'Fishy',\n",
        "                       'f':'foul', 'm':'Musty', 'n':'None', 'p':'Pungent', 's':'Spicy'}, inplace=True)"
      ],
      "metadata": {
        "id": "fvUqK5M4NXkG"
      },
      "execution_count": 345,
      "outputs": []
    },
    {
      "cell_type": "code",
      "source": [
        "## dataframe creation - for plotting\n",
        "# create new pandas dataframe which contains all counts sorted by population\n",
        "odor_df = (\n",
        "    ml_df.groupby(['odor'])\n",
        "    .size()\n",
        "    .reset_index(name=\"Counts\")\n",
        "    .sort_values(by=['odor']))"
      ],
      "metadata": {
        "id": "CPA-9a-aCqtl"
      },
      "execution_count": 349,
      "outputs": []
    },
    {
      "cell_type": "code",
      "source": [
        "## dataframe creation - for plotting\n",
        "# create new pandas dataframe which contains all counts filtered by 'is-edible' == \"edible\" and sorted by population\n",
        "edible_odor_df = (\n",
        "    ml_df.loc[ml_df['class'] == \"Edible\"]\n",
        "    .groupby([\"odor\"])\n",
        "    .size()\n",
        "    .reset_index(name=\"Counts\")\n",
        "    .sort_values(by=['odor'])\n",
        ")\n",
        "# create new pandas dataframe which contains all counts filtered by 'is-edible' == \"poisonous\" and sorted by population\n",
        "poisonous_odor_df = (\n",
        "    ml_df.loc[ml_df['class'] == \"Poisonous\"]\n",
        "    .groupby([\"odor\"])\n",
        "    .size()\n",
        "    .reset_index(name=\"Counts\")\n",
        "    .sort_values(by=['odor'])\n",
        ")\n",
        "# get unique values from the just created pandas dataframes and store them in an array\n",
        "labels_edible_population2 = edible_odor_df['odor'].unique()\n",
        "labels_odor_population = poisonous_odor_df['odor'].unique()\n",
        "# get all the counts from the created pandas dataframes and store them in an array\n",
        "values_edible_population2 = edible_odor_df[\"Counts\"]\n",
        "values_poisonous_population = poisonous_odor_df[\"Counts\"]"
      ],
      "metadata": {
        "id": "0c9vpkI8E8ZY"
      },
      "execution_count": 350,
      "outputs": []
    },
    {
      "cell_type": "code",
      "source": [
        "## Creating two pie charts\n",
        "# Create subplots: use 'domain' type for Pie subplot\n",
        "\n",
        "fig2 = make_subplots(rows=1, cols=2, specs=[[{\"type\": \"domain\"}, {\"type\": \"domain\"}]])\n",
        "# create an array of colors which will be custom colors to the plot\n",
        "valley_colors = [\n",
        "    \"rgb(75,137,120)\",\n",
        "    \"rgb(147,165,32)\",\n",
        "    \"rgb(125,55,16)\",\n",
        "    \"rgb(190, 51, 48)\",\n",
        "    \"rgb(35, 36, 47)\",\n",
        "    \"rgb(188,154,155)\",]\n",
        "# crate traces to specify the various properties of the first pie chart subplot\n",
        "fig2.add_trace(\n",
        "    go.Pie(\n",
        "        labels=labels_edible_population2,\n",
        "        values=values_edible_population2,\n",
        "        name=\"Edible Mushroom\",\n",
        "        marker_colors=earth_colors,),1,1,)\n",
        "# crate traces to specify the various properties of the second pie chart subplot\n",
        "fig2.add_trace(\n",
        "    go.Pie(\n",
        "        labels=labels_poisonous_population,\n",
        "        values=values_poisonous_population,\n",
        "        name=\"Poisonous Mushroom\",\n",
        "        marker_colors=earth_colors,),1,2,)\n",
        "# Use `hole` to create a donut-like pie chart\n",
        "fig2.update_traces(hole=0.4, hoverinfo=\"label+percent+name\")\n",
        "# adapt layout of the chart for readability\n",
        "fig2.update_layout(\n",
        "    title_text=\"Mushroom Edibility by Odor\",\n",
        "    # Add annotations in the center of the donut pies.\n",
        "    annotations=[\n",
        "        dict(text=\"Edible\", x=0.18, y=0.5, font_size=15, showarrow=False),\n",
        "        dict(text=\"Poisonous\", x=0.82, y=0.5, font_size=15, showarrow=False),],)\n",
        "fig2.show()"
      ],
      "metadata": {
        "colab": {
          "base_uri": "https://localhost:8080/",
          "height": 542
        },
        "id": "3uoMGeYWEK2A",
        "outputId": "727fba2c-ff92-4d6f-a313-0781028534d3"
      },
      "execution_count": 351,
      "outputs": [
        {
          "output_type": "display_data",
          "data": {
            "text/html": [
              "<html>\n",
              "<head><meta charset=\"utf-8\" /></head>\n",
              "<body>\n",
              "    <div>            <script src=\"https://cdnjs.cloudflare.com/ajax/libs/mathjax/2.7.5/MathJax.js?config=TeX-AMS-MML_SVG\"></script><script type=\"text/javascript\">if (window.MathJax) {MathJax.Hub.Config({SVG: {font: \"STIX-Web\"}});}</script>                <script type=\"text/javascript\">window.PlotlyConfig = {MathJaxConfig: 'local'};</script>\n",
              "        <script src=\"https://cdn.plot.ly/plotly-2.8.3.min.js\"></script>                <div id=\"d62ee9b5-3151-4f47-97ab-7d1e86f80e32\" class=\"plotly-graph-div\" style=\"height:525px; width:100%;\"></div>            <script type=\"text/javascript\">                                    window.PLOTLYENV=window.PLOTLYENV || {};                                    if (document.getElementById(\"d62ee9b5-3151-4f47-97ab-7d1e86f80e32\")) {                    Plotly.newPlot(                        \"d62ee9b5-3151-4f47-97ab-7d1e86f80e32\",                        [{\"labels\":[\"Almond\",\"Anise\",\"None\"],\"marker\":{\"colors\":[\"rgb(210,180,120)\",\"rgb(218,165,32)\",\"rgb(139,69,19)\",\"rgb(175, 51, 21)\",\"rgb(35, 36, 21)\",\"rgb(188,143,143)\"]},\"name\":\"Edible Mushroom\",\"values\":[400,400,3408],\"type\":\"pie\",\"domain\":{\"x\":[0.0,0.45],\"y\":[0.0,1.0]},\"hole\":0.4,\"hoverinfo\":\"label+percent+name\"},{\"labels\":[\"Clustered\",\"Scattered\",\"Several\",\"Solitary\"],\"marker\":{\"colors\":[\"rgb(210,180,120)\",\"rgb(218,165,32)\",\"rgb(139,69,19)\",\"rgb(175, 51, 21)\",\"rgb(35, 36, 21)\",\"rgb(188,143,143)\"]},\"name\":\"Poisonous Mushroom\",\"values\":[192,576,36,120,256,576,2160],\"type\":\"pie\",\"domain\":{\"x\":[0.55,1.0],\"y\":[0.0,1.0]},\"hole\":0.4,\"hoverinfo\":\"label+percent+name\"}],                        {\"template\":{\"data\":{\"bar\":[{\"error_x\":{\"color\":\"#2a3f5f\"},\"error_y\":{\"color\":\"#2a3f5f\"},\"marker\":{\"line\":{\"color\":\"#E5ECF6\",\"width\":0.5},\"pattern\":{\"fillmode\":\"overlay\",\"size\":10,\"solidity\":0.2}},\"type\":\"bar\"}],\"barpolar\":[{\"marker\":{\"line\":{\"color\":\"#E5ECF6\",\"width\":0.5},\"pattern\":{\"fillmode\":\"overlay\",\"size\":10,\"solidity\":0.2}},\"type\":\"barpolar\"}],\"carpet\":[{\"aaxis\":{\"endlinecolor\":\"#2a3f5f\",\"gridcolor\":\"white\",\"linecolor\":\"white\",\"minorgridcolor\":\"white\",\"startlinecolor\":\"#2a3f5f\"},\"baxis\":{\"endlinecolor\":\"#2a3f5f\",\"gridcolor\":\"white\",\"linecolor\":\"white\",\"minorgridcolor\":\"white\",\"startlinecolor\":\"#2a3f5f\"},\"type\":\"carpet\"}],\"choropleth\":[{\"colorbar\":{\"outlinewidth\":0,\"ticks\":\"\"},\"type\":\"choropleth\"}],\"contour\":[{\"colorbar\":{\"outlinewidth\":0,\"ticks\":\"\"},\"colorscale\":[[0.0,\"#0d0887\"],[0.1111111111111111,\"#46039f\"],[0.2222222222222222,\"#7201a8\"],[0.3333333333333333,\"#9c179e\"],[0.4444444444444444,\"#bd3786\"],[0.5555555555555556,\"#d8576b\"],[0.6666666666666666,\"#ed7953\"],[0.7777777777777778,\"#fb9f3a\"],[0.8888888888888888,\"#fdca26\"],[1.0,\"#f0f921\"]],\"type\":\"contour\"}],\"contourcarpet\":[{\"colorbar\":{\"outlinewidth\":0,\"ticks\":\"\"},\"type\":\"contourcarpet\"}],\"heatmap\":[{\"colorbar\":{\"outlinewidth\":0,\"ticks\":\"\"},\"colorscale\":[[0.0,\"#0d0887\"],[0.1111111111111111,\"#46039f\"],[0.2222222222222222,\"#7201a8\"],[0.3333333333333333,\"#9c179e\"],[0.4444444444444444,\"#bd3786\"],[0.5555555555555556,\"#d8576b\"],[0.6666666666666666,\"#ed7953\"],[0.7777777777777778,\"#fb9f3a\"],[0.8888888888888888,\"#fdca26\"],[1.0,\"#f0f921\"]],\"type\":\"heatmap\"}],\"heatmapgl\":[{\"colorbar\":{\"outlinewidth\":0,\"ticks\":\"\"},\"colorscale\":[[0.0,\"#0d0887\"],[0.1111111111111111,\"#46039f\"],[0.2222222222222222,\"#7201a8\"],[0.3333333333333333,\"#9c179e\"],[0.4444444444444444,\"#bd3786\"],[0.5555555555555556,\"#d8576b\"],[0.6666666666666666,\"#ed7953\"],[0.7777777777777778,\"#fb9f3a\"],[0.8888888888888888,\"#fdca26\"],[1.0,\"#f0f921\"]],\"type\":\"heatmapgl\"}],\"histogram\":[{\"marker\":{\"pattern\":{\"fillmode\":\"overlay\",\"size\":10,\"solidity\":0.2}},\"type\":\"histogram\"}],\"histogram2d\":[{\"colorbar\":{\"outlinewidth\":0,\"ticks\":\"\"},\"colorscale\":[[0.0,\"#0d0887\"],[0.1111111111111111,\"#46039f\"],[0.2222222222222222,\"#7201a8\"],[0.3333333333333333,\"#9c179e\"],[0.4444444444444444,\"#bd3786\"],[0.5555555555555556,\"#d8576b\"],[0.6666666666666666,\"#ed7953\"],[0.7777777777777778,\"#fb9f3a\"],[0.8888888888888888,\"#fdca26\"],[1.0,\"#f0f921\"]],\"type\":\"histogram2d\"}],\"histogram2dcontour\":[{\"colorbar\":{\"outlinewidth\":0,\"ticks\":\"\"},\"colorscale\":[[0.0,\"#0d0887\"],[0.1111111111111111,\"#46039f\"],[0.2222222222222222,\"#7201a8\"],[0.3333333333333333,\"#9c179e\"],[0.4444444444444444,\"#bd3786\"],[0.5555555555555556,\"#d8576b\"],[0.6666666666666666,\"#ed7953\"],[0.7777777777777778,\"#fb9f3a\"],[0.8888888888888888,\"#fdca26\"],[1.0,\"#f0f921\"]],\"type\":\"histogram2dcontour\"}],\"mesh3d\":[{\"colorbar\":{\"outlinewidth\":0,\"ticks\":\"\"},\"type\":\"mesh3d\"}],\"parcoords\":[{\"line\":{\"colorbar\":{\"outlinewidth\":0,\"ticks\":\"\"}},\"type\":\"parcoords\"}],\"pie\":[{\"automargin\":true,\"type\":\"pie\"}],\"scatter\":[{\"marker\":{\"colorbar\":{\"outlinewidth\":0,\"ticks\":\"\"}},\"type\":\"scatter\"}],\"scatter3d\":[{\"line\":{\"colorbar\":{\"outlinewidth\":0,\"ticks\":\"\"}},\"marker\":{\"colorbar\":{\"outlinewidth\":0,\"ticks\":\"\"}},\"type\":\"scatter3d\"}],\"scattercarpet\":[{\"marker\":{\"colorbar\":{\"outlinewidth\":0,\"ticks\":\"\"}},\"type\":\"scattercarpet\"}],\"scattergeo\":[{\"marker\":{\"colorbar\":{\"outlinewidth\":0,\"ticks\":\"\"}},\"type\":\"scattergeo\"}],\"scattergl\":[{\"marker\":{\"colorbar\":{\"outlinewidth\":0,\"ticks\":\"\"}},\"type\":\"scattergl\"}],\"scattermapbox\":[{\"marker\":{\"colorbar\":{\"outlinewidth\":0,\"ticks\":\"\"}},\"type\":\"scattermapbox\"}],\"scatterpolar\":[{\"marker\":{\"colorbar\":{\"outlinewidth\":0,\"ticks\":\"\"}},\"type\":\"scatterpolar\"}],\"scatterpolargl\":[{\"marker\":{\"colorbar\":{\"outlinewidth\":0,\"ticks\":\"\"}},\"type\":\"scatterpolargl\"}],\"scatterternary\":[{\"marker\":{\"colorbar\":{\"outlinewidth\":0,\"ticks\":\"\"}},\"type\":\"scatterternary\"}],\"surface\":[{\"colorbar\":{\"outlinewidth\":0,\"ticks\":\"\"},\"colorscale\":[[0.0,\"#0d0887\"],[0.1111111111111111,\"#46039f\"],[0.2222222222222222,\"#7201a8\"],[0.3333333333333333,\"#9c179e\"],[0.4444444444444444,\"#bd3786\"],[0.5555555555555556,\"#d8576b\"],[0.6666666666666666,\"#ed7953\"],[0.7777777777777778,\"#fb9f3a\"],[0.8888888888888888,\"#fdca26\"],[1.0,\"#f0f921\"]],\"type\":\"surface\"}],\"table\":[{\"cells\":{\"fill\":{\"color\":\"#EBF0F8\"},\"line\":{\"color\":\"white\"}},\"header\":{\"fill\":{\"color\":\"#C8D4E3\"},\"line\":{\"color\":\"white\"}},\"type\":\"table\"}]},\"layout\":{\"annotationdefaults\":{\"arrowcolor\":\"#2a3f5f\",\"arrowhead\":0,\"arrowwidth\":1},\"autotypenumbers\":\"strict\",\"coloraxis\":{\"colorbar\":{\"outlinewidth\":0,\"ticks\":\"\"}},\"colorscale\":{\"diverging\":[[0,\"#8e0152\"],[0.1,\"#c51b7d\"],[0.2,\"#de77ae\"],[0.3,\"#f1b6da\"],[0.4,\"#fde0ef\"],[0.5,\"#f7f7f7\"],[0.6,\"#e6f5d0\"],[0.7,\"#b8e186\"],[0.8,\"#7fbc41\"],[0.9,\"#4d9221\"],[1,\"#276419\"]],\"sequential\":[[0.0,\"#0d0887\"],[0.1111111111111111,\"#46039f\"],[0.2222222222222222,\"#7201a8\"],[0.3333333333333333,\"#9c179e\"],[0.4444444444444444,\"#bd3786\"],[0.5555555555555556,\"#d8576b\"],[0.6666666666666666,\"#ed7953\"],[0.7777777777777778,\"#fb9f3a\"],[0.8888888888888888,\"#fdca26\"],[1.0,\"#f0f921\"]],\"sequentialminus\":[[0.0,\"#0d0887\"],[0.1111111111111111,\"#46039f\"],[0.2222222222222222,\"#7201a8\"],[0.3333333333333333,\"#9c179e\"],[0.4444444444444444,\"#bd3786\"],[0.5555555555555556,\"#d8576b\"],[0.6666666666666666,\"#ed7953\"],[0.7777777777777778,\"#fb9f3a\"],[0.8888888888888888,\"#fdca26\"],[1.0,\"#f0f921\"]]},\"colorway\":[\"#636efa\",\"#EF553B\",\"#00cc96\",\"#ab63fa\",\"#FFA15A\",\"#19d3f3\",\"#FF6692\",\"#B6E880\",\"#FF97FF\",\"#FECB52\"],\"font\":{\"color\":\"#2a3f5f\"},\"geo\":{\"bgcolor\":\"white\",\"lakecolor\":\"white\",\"landcolor\":\"#E5ECF6\",\"showlakes\":true,\"showland\":true,\"subunitcolor\":\"white\"},\"hoverlabel\":{\"align\":\"left\"},\"hovermode\":\"closest\",\"mapbox\":{\"style\":\"light\"},\"paper_bgcolor\":\"white\",\"plot_bgcolor\":\"#E5ECF6\",\"polar\":{\"angularaxis\":{\"gridcolor\":\"white\",\"linecolor\":\"white\",\"ticks\":\"\"},\"bgcolor\":\"#E5ECF6\",\"radialaxis\":{\"gridcolor\":\"white\",\"linecolor\":\"white\",\"ticks\":\"\"}},\"scene\":{\"xaxis\":{\"backgroundcolor\":\"#E5ECF6\",\"gridcolor\":\"white\",\"gridwidth\":2,\"linecolor\":\"white\",\"showbackground\":true,\"ticks\":\"\",\"zerolinecolor\":\"white\"},\"yaxis\":{\"backgroundcolor\":\"#E5ECF6\",\"gridcolor\":\"white\",\"gridwidth\":2,\"linecolor\":\"white\",\"showbackground\":true,\"ticks\":\"\",\"zerolinecolor\":\"white\"},\"zaxis\":{\"backgroundcolor\":\"#E5ECF6\",\"gridcolor\":\"white\",\"gridwidth\":2,\"linecolor\":\"white\",\"showbackground\":true,\"ticks\":\"\",\"zerolinecolor\":\"white\"}},\"shapedefaults\":{\"line\":{\"color\":\"#2a3f5f\"}},\"ternary\":{\"aaxis\":{\"gridcolor\":\"white\",\"linecolor\":\"white\",\"ticks\":\"\"},\"baxis\":{\"gridcolor\":\"white\",\"linecolor\":\"white\",\"ticks\":\"\"},\"bgcolor\":\"#E5ECF6\",\"caxis\":{\"gridcolor\":\"white\",\"linecolor\":\"white\",\"ticks\":\"\"}},\"title\":{\"x\":0.05},\"xaxis\":{\"automargin\":true,\"gridcolor\":\"white\",\"linecolor\":\"white\",\"ticks\":\"\",\"title\":{\"standoff\":15},\"zerolinecolor\":\"white\",\"zerolinewidth\":2},\"yaxis\":{\"automargin\":true,\"gridcolor\":\"white\",\"linecolor\":\"white\",\"ticks\":\"\",\"title\":{\"standoff\":15},\"zerolinecolor\":\"white\",\"zerolinewidth\":2}}},\"title\":{\"text\":\"Mushroom Edibility by Odor\"},\"annotations\":[{\"showarrow\":false,\"text\":\"Edible\",\"x\":0.18,\"y\":0.5,\"font\":{\"size\":15}},{\"showarrow\":false,\"text\":\"Poisonous\",\"x\":0.82,\"y\":0.5,\"font\":{\"size\":15}}]},                        {\"responsive\": true}                    ).then(function(){\n",
              "                            \n",
              "var gd = document.getElementById('d62ee9b5-3151-4f47-97ab-7d1e86f80e32');\n",
              "var x = new MutationObserver(function (mutations, observer) {{\n",
              "        var display = window.getComputedStyle(gd).display;\n",
              "        if (!display || display === 'none') {{\n",
              "            console.log([gd, 'removed!']);\n",
              "            Plotly.purge(gd);\n",
              "            observer.disconnect();\n",
              "        }}\n",
              "}});\n",
              "\n",
              "// Listen for the removal of the full notebook cells\n",
              "var notebookContainer = gd.closest('#notebook-container');\n",
              "if (notebookContainer) {{\n",
              "    x.observe(notebookContainer, {childList: true});\n",
              "}}\n",
              "\n",
              "// Listen for the clearing of the current output cell\n",
              "var outputEl = gd.closest('.output');\n",
              "if (outputEl) {{\n",
              "    x.observe(outputEl, {childList: true});\n",
              "}}\n",
              "\n",
              "                        })                };                            </script>        </div>\n",
              "</body>\n",
              "</html>"
            ]
          },
          "metadata": {}
        }
      ]
    },
    {
      "cell_type": "markdown",
      "source": [
        "These two pie chart displays the mushrooms that are poisnous or edible based on the smell. In the edible side, 81% of the mushrooms that are edible does not have a smell but when looking at the poisonous group 62% of the mushrooms that have an anise smell are poisonous to consume."
      ],
      "metadata": {
        "id": "hnGZBeUTMKnN"
      }
    }
  ]
}